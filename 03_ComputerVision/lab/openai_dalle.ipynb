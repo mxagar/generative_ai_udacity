{
 "cells": [
  {
   "cell_type": "markdown",
   "id": "f0d03bfe",
   "metadata": {},
   "source": [
    "# OpenAI DALL-E v2"
   ]
  },
  {
   "cell_type": "code",
   "execution_count": null,
   "id": "3814310f",
   "metadata": {},
   "outputs": [],
   "source": [
    "import os\n",
    "from dotenv import load_dotenv\n",
    "from openai import OpenAI\n",
    "\n",
    "import base64\n",
    "from io import BytesIO\n",
    "from PIL import Image\n",
    "from IPython.display import display"
   ]
  },
  {
   "cell_type": "code",
   "execution_count": 3,
   "id": "5bc339cf",
   "metadata": {},
   "outputs": [
    {
     "data": {
      "text/plain": [
       "True"
      ]
     },
     "execution_count": 3,
     "metadata": {},
     "output_type": "execute_result"
    }
   ],
   "source": [
    "load_dotenv(\".env\")"
   ]
  },
  {
   "cell_type": "code",
   "execution_count": 4,
   "id": "aae61add",
   "metadata": {},
   "outputs": [],
   "source": [
    "client = OpenAI(\n",
    "  api_key=os.environ['OPENAI_API_KEY'],\n",
    ")"
   ]
  },
  {
   "cell_type": "code",
   "execution_count": null,
   "id": "670c7e42",
   "metadata": {},
   "outputs": [],
   "source": [
    "# Prompt\n",
    "prompt = \"A watercolor painting of a cyberpunk city with flying cars\""
   ]
  },
  {
   "cell_type": "code",
   "execution_count": null,
   "id": "2de55aa9",
   "metadata": {},
   "outputs": [],
   "source": [
    "# Generate image: API Call\n",
    "# WARNING: We need authorization/verification: OpenAI Platform > Profile > General > Verify\n",
    "result = client.images.generate(\n",
    "    model=\"gpt-image-1\",  # This is the DALL·E model\n",
    "    prompt=prompt,\n",
    "    size=\"1024x1024\"\n",
    ")\n",
    "\n",
    "# The response contains a URL or base64-encoded image\n",
    "image_base64 = result.data[0].b64_json\n",
    "image_bytes = base64.b64decode(image_base64)"
   ]
  },
  {
   "cell_type": "code",
   "execution_count": null,
   "id": "f783d06a",
   "metadata": {},
   "outputs": [],
   "source": [
    "# Load with PIL\n",
    "image = Image.open(BytesIO(image_bytes))\n",
    "\n",
    "# Display inline in notebook\n",
    "display(image)"
   ]
  },
  {
   "cell_type": "code",
   "execution_count": null,
   "id": "badf5897",
   "metadata": {},
   "outputs": [],
   "source": [
    "# Optionally save to file\n",
    "image.save(\"dalle_output.png\")"
   ]
  }
 ],
 "metadata": {
  "kernelspec": {
   "display_name": "genai",
   "language": "python",
   "name": "python3"
  },
  "language_info": {
   "codemirror_mode": {
    "name": "ipython",
    "version": 3
   },
   "file_extension": ".py",
   "mimetype": "text/x-python",
   "name": "python",
   "nbconvert_exporter": "python",
   "pygments_lexer": "ipython3",
   "version": "3.10.18"
  }
 },
 "nbformat": 4,
 "nbformat_minor": 5
}

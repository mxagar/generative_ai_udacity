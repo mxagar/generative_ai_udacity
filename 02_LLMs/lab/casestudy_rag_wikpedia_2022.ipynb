{
 "cells": [
  {
   "cell_type": "markdown",
   "id": "1417fd61",
   "metadata": {},
   "source": [
    "# Build a Custom OpenAI Chatbot with ML-Driven Prompt Engineering\n",
    "\n",
    "The code below is designed to run as-is with one exception: **the OpenAI API key must be specified**. Edit the cell below to add your API key between the double quotes.\n",
    "\n",
    "Then, to execute each code cell, click on it and press `Shift` + `Enter` on your keyboard."
   ]
  },
  {
   "cell_type": "code",
   "execution_count": 1,
   "id": "3e212665",
   "metadata": {},
   "outputs": [],
   "source": [
    "import os\n",
    "import dotenv\n",
    "from dotenv import load_dotenv\n",
    "from openai import OpenAI"
   ]
  },
  {
   "cell_type": "code",
   "execution_count": 2,
   "id": "cc3bd252",
   "metadata": {},
   "outputs": [
    {
     "data": {
      "text/plain": [
       "True"
      ]
     },
     "execution_count": 2,
     "metadata": {},
     "output_type": "execute_result"
    }
   ],
   "source": [
    "load_dotenv(\".env\")"
   ]
  },
  {
   "cell_type": "markdown",
   "id": "1c45c16c",
   "metadata": {},
   "source": [
    "## Step 0: Inspecting Non-Customized Results\n",
    "\n",
    "Before we perform any prompt engineering, **let's ask the OpenAI model some questions and see how it answers**.\n",
    "\n",
    "(If you encounter an `AuthenticationError` when running this code, make sure that you have added a valid API key to the cell above and executed it.)"
   ]
  },
  {
   "cell_type": "code",
   "execution_count": 5,
   "id": "d2a536cb",
   "metadata": {},
   "outputs": [],
   "source": [
    "client = OpenAI(\n",
    "  api_key=os.environ['OPENAI_API_KEY'],\n",
    ")"
   ]
  },
  {
   "cell_type": "code",
   "execution_count": 6,
   "id": "a920753f",
   "metadata": {},
   "outputs": [
    {
     "name": "stdout",
     "output_type": "stream",
     "text": [
      "Russia invaded Ukraine in February 2014.\n"
     ]
    }
   ],
   "source": [
    "ukraine_prompt = \"\"\"\n",
    "Question: \"When did Russia invade Ukraine?\"\n",
    "Answer:\n",
    "\"\"\"\n",
    "\n",
    "response = client.completions.create(\n",
    "    model=\"gpt-3.5-turbo-instruct\",\n",
    "    prompt=ukraine_prompt,\n",
    "    max_tokens=150,\n",
    "    temperature=0.7,\n",
    ")\n",
    "\n",
    "initial_ukraine_answer = response.choices[0].text.strip()\n",
    "print(initial_ukraine_answer)"
   ]
  },
  {
   "cell_type": "code",
   "execution_count": 7,
   "id": "8f85c675",
   "metadata": {},
   "outputs": [
    {
     "name": "stdout",
     "output_type": "stream",
     "text": [
      "Twitter Inc. is the company that owns the social media platform Twitter. It was founded by Jack Dorsey, Evan Williams, Biz Stone, and Noah Glass in 2006. As of 2021, Jack Dorsey is the current CEO and largest shareholder of Twitter. Other major shareholders include venture capital firms and institutional investors.\n"
     ]
    }
   ],
   "source": [
    "twitter_prompt = \"\"\"\n",
    "Question: \"Who owns Twitter?\"\n",
    "Answer:\n",
    "\"\"\"\n",
    "\n",
    "response = client.completions.create(\n",
    "    model=\"gpt-3.5-turbo-instruct\",\n",
    "    prompt=twitter_prompt,\n",
    "    max_tokens=150,\n",
    "    temperature=0.7,\n",
    ")\n",
    "\n",
    "initial_twitter_answer = response.choices[0].text.strip()\n",
    "print(initial_twitter_answer)"
   ]
  },
  {
   "cell_type": "markdown",
   "id": "66923e33",
   "metadata": {},
   "source": [
    "The model is answering this way because the training data ends in 2021. **Our task will be to provide context from 2022 to help the model answer these questions correctly.**"
   ]
  },
  {
   "cell_type": "markdown",
   "id": "aee2b145",
   "metadata": {},
   "source": [
    "# Step 1: Prepare Dataset"
   ]
  },
  {
   "cell_type": "markdown",
   "id": "c3bb8bb1",
   "metadata": {},
   "source": [
    "## Loading and Wrangling Data"
   ]
  },
  {
   "cell_type": "markdown",
   "id": "8d50cc7e",
   "metadata": {},
   "source": [
    "**The data should be loaded into a pandas `DataFrame` called `df` where each row represents a text sample, and there is only one column, `\"text\"`, which contains the raw text data.**\n",
    "\n",
    "In this particular case we are collecting data from [the Wikipedia page for the year 2022](https://en.wikipedia.org/wiki/2022) and performing some data wrangling to get it into the appropriate format. Don't worry too much about the details here, since data wrangling looks different for every dataset!"
   ]
  },
  {
   "cell_type": "code",
   "execution_count": 11,
   "id": "5f517cb9",
   "metadata": {},
   "outputs": [
    {
     "data": {
      "text/html": [
       "<div>\n",
       "<style scoped>\n",
       "    .dataframe tbody tr th:only-of-type {\n",
       "        vertical-align: middle;\n",
       "    }\n",
       "\n",
       "    .dataframe tbody tr th {\n",
       "        vertical-align: top;\n",
       "    }\n",
       "\n",
       "    .dataframe thead th {\n",
       "        text-align: right;\n",
       "    }\n",
       "</style>\n",
       "<table border=\"1\" class=\"dataframe\">\n",
       "  <thead>\n",
       "    <tr style=\"text-align: right;\">\n",
       "      <th></th>\n",
       "      <th>text</th>\n",
       "    </tr>\n",
       "  </thead>\n",
       "  <tbody>\n",
       "    <tr>\n",
       "      <th>0</th>\n",
       "      <td>– 2022 (MMXXII) was a common year starting on...</td>\n",
       "    </tr>\n",
       "    <tr>\n",
       "      <th>1</th>\n",
       "      <td>– The year began with another wave in the COV...</td>\n",
       "    </tr>\n",
       "    <tr>\n",
       "      <th>2</th>\n",
       "      <td>– 2022 was also dominated by wars and armed c...</td>\n",
       "    </tr>\n",
       "    <tr>\n",
       "      <th>7</th>\n",
       "      <td>– The ongoing Russian invasion of Ukraine esc...</td>\n",
       "    </tr>\n",
       "    <tr>\n",
       "      <th>15</th>\n",
       "      <td>January 1 – France takes over the Presidency ...</td>\n",
       "    </tr>\n",
       "  </tbody>\n",
       "</table>\n",
       "</div>"
      ],
      "text/plain": [
       "                                                 text\n",
       "0    – 2022 (MMXXII) was a common year starting on...\n",
       "1    – The year began with another wave in the COV...\n",
       "2    – 2022 was also dominated by wars and armed c...\n",
       "7    – The ongoing Russian invasion of Ukraine esc...\n",
       "15   January 1 – France takes over the Presidency ..."
      ]
     },
     "execution_count": 11,
     "metadata": {},
     "output_type": "execute_result"
    }
   ],
   "source": [
    "from dateutil.parser import parse\n",
    "import pandas as pd\n",
    "import requests\n",
    "\n",
    "# Get the Wikipedia page for \"2022\" since OpenAI's models stop in 2021\n",
    "resp = requests.get(\"https://en.wikipedia.org/w/api.php?action=query&prop=extracts&exlimit=1&titles=2022&explaintext=1&formatversion=2&format=json\")\n",
    "\n",
    "# Load page text into a dataframe\n",
    "df = pd.DataFrame()\n",
    "df[\"text\"] = resp.json()[\"query\"][\"pages\"][0][\"extract\"].split(\"\\n\")\n",
    "\n",
    "# Clean up text to remove empty lines and headings\n",
    "df = df[(df[\"text\"].str.len() > 0) & (~df[\"text\"].str.startswith(\"==\"))]\n",
    "\n",
    "# In some cases dates are used as headings instead of being part of the\n",
    "# text sample; adjust so dated text samples start with dates\n",
    "prefix = \"\"\n",
    "for (i, row) in df.iterrows():\n",
    "    # If the row already has \" - \", it already has the needed date prefix\n",
    "    if \" – \" not in row[\"text\"]:\n",
    "        try:\n",
    "            # If the row's text is a date, set it as the new prefix\n",
    "            parse(row[\"text\"])\n",
    "            prefix = row[\"text\"]\n",
    "        except ValueError:\n",
    "            # If the row's text isn't a date, add the prefix\n",
    "            row[\"text\"] = prefix + \" – \" + row[\"text\"]\n",
    "df = df[df[\"text\"].str.contains(\" – \")]\n",
    "df.head()"
   ]
  },
  {
   "cell_type": "markdown",
   "id": "14c88a55",
   "metadata": {},
   "source": [
    "## Generating Embeddings\n",
    "\n",
    "We'll use the `Embedding` tooling from OpenAI [documentation here](https://platform.openai.com/docs/guides/embeddings/embeddings) to create vectors representing each row of our custom dataset."
   ]
  },
  {
   "cell_type": "markdown",
   "id": "0d91eeef",
   "metadata": {},
   "source": [
    "In order to avoid a `RateLimitError` we'll send our data in batches to the `embeddings.create` function."
   ]
  },
  {
   "cell_type": "code",
   "execution_count": null,
   "id": "0e23bb24",
   "metadata": {},
   "outputs": [
    {
     "data": {
      "text/html": [
       "<div>\n",
       "<style scoped>\n",
       "    .dataframe tbody tr th:only-of-type {\n",
       "        vertical-align: middle;\n",
       "    }\n",
       "\n",
       "    .dataframe tbody tr th {\n",
       "        vertical-align: top;\n",
       "    }\n",
       "\n",
       "    .dataframe thead th {\n",
       "        text-align: right;\n",
       "    }\n",
       "</style>\n",
       "<table border=\"1\" class=\"dataframe\">\n",
       "  <thead>\n",
       "    <tr style=\"text-align: right;\">\n",
       "      <th></th>\n",
       "      <th>text</th>\n",
       "      <th>embeddings</th>\n",
       "    </tr>\n",
       "  </thead>\n",
       "  <tbody>\n",
       "    <tr>\n",
       "      <th>0</th>\n",
       "      <td>– 2022 (MMXXII) was a common year starting on...</td>\n",
       "      <td>[9.842545114224777e-05, -0.01795295812189579, ...</td>\n",
       "    </tr>\n",
       "    <tr>\n",
       "      <th>1</th>\n",
       "      <td>– The year began with another wave in the COV...</td>\n",
       "      <td>[-0.00460190512239933, -0.02004355937242508, -...</td>\n",
       "    </tr>\n",
       "    <tr>\n",
       "      <th>2</th>\n",
       "      <td>– 2022 was also dominated by wars and armed c...</td>\n",
       "      <td>[-0.009761546738445759, -0.015438097529113293,...</td>\n",
       "    </tr>\n",
       "    <tr>\n",
       "      <th>7</th>\n",
       "      <td>– The ongoing Russian invasion of Ukraine esc...</td>\n",
       "      <td>[-0.014669493772089481, -0.0075006913393735886...</td>\n",
       "    </tr>\n",
       "    <tr>\n",
       "      <th>15</th>\n",
       "      <td>January 1 – France takes over the Presidency ...</td>\n",
       "      <td>[0.030155904591083527, -0.01053685788065195, -...</td>\n",
       "    </tr>\n",
       "  </tbody>\n",
       "</table>\n",
       "</div>"
      ],
      "text/plain": [
       "                                                 text  \\\n",
       "0    – 2022 (MMXXII) was a common year starting on...   \n",
       "1    – The year began with another wave in the COV...   \n",
       "2    – 2022 was also dominated by wars and armed c...   \n",
       "7    – The ongoing Russian invasion of Ukraine esc...   \n",
       "15   January 1 – France takes over the Presidency ...   \n",
       "\n",
       "                                           embeddings  \n",
       "0   [9.842545114224777e-05, -0.01795295812189579, ...  \n",
       "1   [-0.00460190512239933, -0.02004355937242508, -...  \n",
       "2   [-0.009761546738445759, -0.015438097529113293,...  \n",
       "7   [-0.014669493772089481, -0.0075006913393735886...  \n",
       "15  [0.030155904591083527, -0.01053685788065195, -...  "
      ]
     },
     "execution_count": 13,
     "metadata": {},
     "output_type": "execute_result"
    }
   ],
   "source": [
    "EMBEDDING_MODEL_NAME = \"text-embedding-ada-002\"\n",
    "batch_size = 100\n",
    "embeddings = []\n",
    "\n",
    "for i in range(0, len(df), batch_size):\n",
    "    batch_texts = df.iloc[i:i+batch_size][\"text\"].tolist()\n",
    "    \n",
    "    response = client.embeddings.create(\n",
    "        model=EMBEDDING_MODEL_NAME,\n",
    "        input=batch_texts\n",
    "    )\n",
    "\n",
    "    # Each `response.data` element is an object with an \"embedding\"\n",
    "    embeddings.extend([item.embedding for item in response.data])\n",
    "\n",
    "df[\"embeddings\"] = embeddings\n",
    "df.head()"
   ]
  },
  {
   "cell_type": "code",
   "execution_count": null,
   "id": "55f24bf2",
   "metadata": {},
   "outputs": [
    {
     "data": {
      "text/plain": [
       "(1536,)"
      ]
     },
     "execution_count": 20,
     "metadata": {},
     "output_type": "execute_result"
    }
   ],
   "source": [
    "# Dimensionality of the embeddings: 1536\n",
    "df.loc[0, \"embeddings\"].shape"
   ]
  },
  {
   "cell_type": "markdown",
   "id": "189c66e9",
   "metadata": {},
   "source": [
    "In order to avoid having to run that code again in the future, we'll save the generated embeddings as a CSV file."
   ]
  },
  {
   "cell_type": "code",
   "execution_count": null,
   "id": "53f4909c",
   "metadata": {},
   "outputs": [],
   "source": [
    "df.to_csv(\"embeddings.csv\")"
   ]
  },
  {
   "cell_type": "code",
   "execution_count": null,
   "id": "8cdddaed",
   "metadata": {},
   "outputs": [
    {
     "name": "stdout",
     "output_type": "stream",
     "text": [
      "\u001b[1m\u001b[36m__pycache__\u001b[m\u001b[m\n",
      "casestudy_rag_wikpedia_2022.ipynb\n",
      "chatbot_memory_management.ipynb\n",
      "common.py\n",
      "\u001b[1m\u001b[36mdata\u001b[m\u001b[m\n",
      "demo-using-bertviz-to-detect-bias-completed.ipynb\n",
      "demo_cot_and_triggers.ipynb\n",
      "distances.csv\n",
      "embeddings.csv\n",
      "encoding.ipynb\n",
      "exercise-1-implement-self-attention-solution.ipynb\n",
      "exercise-2-create-your-own-gpt-model-solution.ipynb\n",
      "exercise_rag.ipynb\n",
      "exercise_rag_step_1.ipynb\n",
      "exercise_rag_step_2.ipynb\n",
      "exercise_rag_step_3_4.ipynb\n",
      "helper.py\n",
      "hugging-face-tokenizer-properties.ipynb\n",
      "hugging-face-tokenizer.ipynb\n",
      "openai_test.ipynb\n",
      "text-generation.ipynb\n"
     ]
    }
   ],
   "source": [
    "! ls"
   ]
  },
  {
   "cell_type": "markdown",
   "id": "c6362dc3",
   "metadata": {},
   "source": [
    "If you want to stop the tutorial here and come back, you can reload `df` using this code (again adding your API key) rather than generating the embeddings again:"
   ]
  },
  {
   "cell_type": "code",
   "execution_count": 103,
   "id": "09921453",
   "metadata": {},
   "outputs": [],
   "source": [
    "import numpy as np\n",
    "import pandas as pd\n",
    "import ast\n",
    "\n",
    "df = pd.read_csv(\"embeddings.csv\", index_col=0)\n",
    "df[\"embeddings\"] = df[\"embeddings\"].apply(ast.literal_eval)"
   ]
  },
  {
   "cell_type": "code",
   "execution_count": 104,
   "id": "b5d9df3d",
   "metadata": {},
   "outputs": [
    {
     "data": {
      "text/html": [
       "<div>\n",
       "<style scoped>\n",
       "    .dataframe tbody tr th:only-of-type {\n",
       "        vertical-align: middle;\n",
       "    }\n",
       "\n",
       "    .dataframe tbody tr th {\n",
       "        vertical-align: top;\n",
       "    }\n",
       "\n",
       "    .dataframe thead th {\n",
       "        text-align: right;\n",
       "    }\n",
       "</style>\n",
       "<table border=\"1\" class=\"dataframe\">\n",
       "  <thead>\n",
       "    <tr style=\"text-align: right;\">\n",
       "      <th></th>\n",
       "      <th>text</th>\n",
       "      <th>embeddings</th>\n",
       "    </tr>\n",
       "  </thead>\n",
       "  <tbody>\n",
       "    <tr>\n",
       "      <th>0</th>\n",
       "      <td>– 2022 (MMXXII) was a common year starting on...</td>\n",
       "      <td>[9.842545114224777e-05, -0.01795295812189579, ...</td>\n",
       "    </tr>\n",
       "    <tr>\n",
       "      <th>1</th>\n",
       "      <td>– The year began with another wave in the COV...</td>\n",
       "      <td>[-0.00460190512239933, -0.02004355937242508, -...</td>\n",
       "    </tr>\n",
       "    <tr>\n",
       "      <th>2</th>\n",
       "      <td>– 2022 was also dominated by wars and armed c...</td>\n",
       "      <td>[-0.009761546738445759, -0.015438097529113293,...</td>\n",
       "    </tr>\n",
       "    <tr>\n",
       "      <th>7</th>\n",
       "      <td>– The ongoing Russian invasion of Ukraine esc...</td>\n",
       "      <td>[-0.014669493772089481, -0.0075006913393735886...</td>\n",
       "    </tr>\n",
       "    <tr>\n",
       "      <th>15</th>\n",
       "      <td>January 1 – France takes over the Presidency ...</td>\n",
       "      <td>[0.030155904591083527, -0.01053685788065195, -...</td>\n",
       "    </tr>\n",
       "    <tr>\n",
       "      <th>16</th>\n",
       "      <td>January 1 – The Regional Comprehensive Econom...</td>\n",
       "      <td>[-0.0005575703689828515, -0.02416575513780117,...</td>\n",
       "    </tr>\n",
       "    <tr>\n",
       "      <th>17</th>\n",
       "      <td>January 2 – Abdalla Hamdok resigns as Prime Mi...</td>\n",
       "      <td>[-0.014902799390256405, 0.0011809427523985505,...</td>\n",
       "    </tr>\n",
       "    <tr>\n",
       "      <th>18</th>\n",
       "      <td>January 4 – The five permanent members of the ...</td>\n",
       "      <td>[-0.0031260892283171415, -0.012686490081250668...</td>\n",
       "    </tr>\n",
       "    <tr>\n",
       "      <th>19</th>\n",
       "      <td>January 5 – A nationwide state of emergency is...</td>\n",
       "      <td>[-0.002887411043047905, -0.0061250114813447, -...</td>\n",
       "    </tr>\n",
       "    <tr>\n",
       "      <th>20</th>\n",
       "      <td>January 6 – The CSTO deploys a \"peacekeeping\" ...</td>\n",
       "      <td>[0.013389947824180126, 0.0030728629790246487, ...</td>\n",
       "    </tr>\n",
       "  </tbody>\n",
       "</table>\n",
       "</div>"
      ],
      "text/plain": [
       "                                                 text  \\\n",
       "0    – 2022 (MMXXII) was a common year starting on...   \n",
       "1    – The year began with another wave in the COV...   \n",
       "2    – 2022 was also dominated by wars and armed c...   \n",
       "7    – The ongoing Russian invasion of Ukraine esc...   \n",
       "15   January 1 – France takes over the Presidency ...   \n",
       "16   January 1 – The Regional Comprehensive Econom...   \n",
       "17  January 2 – Abdalla Hamdok resigns as Prime Mi...   \n",
       "18  January 4 – The five permanent members of the ...   \n",
       "19  January 5 – A nationwide state of emergency is...   \n",
       "20  January 6 – The CSTO deploys a \"peacekeeping\" ...   \n",
       "\n",
       "                                           embeddings  \n",
       "0   [9.842545114224777e-05, -0.01795295812189579, ...  \n",
       "1   [-0.00460190512239933, -0.02004355937242508, -...  \n",
       "2   [-0.009761546738445759, -0.015438097529113293,...  \n",
       "7   [-0.014669493772089481, -0.0075006913393735886...  \n",
       "15  [0.030155904591083527, -0.01053685788065195, -...  \n",
       "16  [-0.0005575703689828515, -0.02416575513780117,...  \n",
       "17  [-0.014902799390256405, 0.0011809427523985505,...  \n",
       "18  [-0.0031260892283171415, -0.012686490081250668...  \n",
       "19  [-0.002887411043047905, -0.0061250114813447, -...  \n",
       "20  [0.013389947824180126, 0.0030728629790246487, ...  "
      ]
     },
     "execution_count": 104,
     "metadata": {},
     "output_type": "execute_result"
    }
   ],
   "source": [
    "df.head(10)"
   ]
  },
  {
   "cell_type": "markdown",
   "id": "482d3f08",
   "metadata": {},
   "source": [
    "# Step 2: Create a Function that Finds Related Pieces of Text for a Given Question\n",
    "\n",
    "What we are implementing here is similar to a search engine or recommendation algorithm. We want to sort all of the rows of our dataset from least relevant to most relevant.\n",
    "\n",
    "This will use the embeddings that we generated previously in order to compare the vectorized version of our question to the vectorized versions of the rows of the dataset."
   ]
  },
  {
   "cell_type": "code",
   "execution_count": 105,
   "id": "44e2dcb2",
   "metadata": {},
   "outputs": [],
   "source": [
    "from scipy.spatial.distance import cosine as cosine_distance\n",
    "import ast"
   ]
  },
  {
   "cell_type": "code",
   "execution_count": 106,
   "id": "c650757e",
   "metadata": {},
   "outputs": [
    {
     "data": {
      "text/plain": [
       "np.float64(0.16654763602511913)"
      ]
     },
     "execution_count": 106,
     "metadata": {},
     "output_type": "execute_result"
    }
   ],
   "source": [
    "# Calculate cosine distance between the first two embeddings\n",
    "# cosine_distance = 1 - cosine_similarity\n",
    "cosine_distance(df[\"embeddings\"].loc[0], df[\"embeddings\"].loc[1])"
   ]
  },
  {
   "cell_type": "code",
   "execution_count": 107,
   "id": "e89a45c6",
   "metadata": {},
   "outputs": [],
   "source": [
    "import numpy as np\n",
    "from scipy.spatial.distance import cdist\n",
    "\n",
    "def get_embedding(text: str, model=\"text-embedding-ada-002\"):\n",
    "    response = client.embeddings.create(input=[text], model=model)\n",
    "    return response.data[0].embedding\n",
    "\n",
    "def distances_from_embeddings(query_embedding, embeddings, distance_metric=\"cosine\"):\n",
    "    embeddings = np.stack(embeddings)\n",
    "    return cdist([query_embedding], embeddings, metric=distance_metric)[0]"
   ]
  },
  {
   "cell_type": "code",
   "execution_count": 108,
   "id": "1f03ee28",
   "metadata": {},
   "outputs": [],
   "source": [
    "def get_rows_sorted_by_relevance(question, df):\n",
    "    \"\"\"\n",
    "    Function that takes in a question string and a dataframe containing\n",
    "    rows of text and associated embeddings, and returns that dataframe\n",
    "    sorted from least to most relevant for that question\n",
    "    \"\"\"\n",
    "    \n",
    "    # Get embeddings for the question text\n",
    "    question_embeddings = get_embedding(question, model=EMBEDDING_MODEL_NAME)\n",
    "    \n",
    "    # Make a copy of the dataframe and add a \"distances\" column containing\n",
    "    # the cosine distances between each row's embeddings and the\n",
    "    # embeddings of the question\n",
    "    df_copy = df.copy()\n",
    "    df_copy[\"distances\"] = distances_from_embeddings(\n",
    "        question_embeddings,\n",
    "        df_copy[\"embeddings\"].values,\n",
    "        distance_metric=\"cosine\"\n",
    "    )\n",
    "    \n",
    "    # Sort the copied dataframe by the distances and return it\n",
    "    # (shorter distance = more relevant so we sort in ascending order)\n",
    "    df_copy.sort_values(\"distances\", ascending=True, inplace=True)\n",
    "    return df_copy"
   ]
  },
  {
   "cell_type": "markdown",
   "id": "e46ca43c",
   "metadata": {},
   "source": [
    "Let's test that out for a couple different questions:"
   ]
  },
  {
   "cell_type": "code",
   "execution_count": 109,
   "id": "8b62af7b",
   "metadata": {},
   "outputs": [
    {
     "data": {
      "text/html": [
       "<div>\n",
       "<style scoped>\n",
       "    .dataframe tbody tr th:only-of-type {\n",
       "        vertical-align: middle;\n",
       "    }\n",
       "\n",
       "    .dataframe tbody tr th {\n",
       "        vertical-align: top;\n",
       "    }\n",
       "\n",
       "    .dataframe thead th {\n",
       "        text-align: right;\n",
       "    }\n",
       "</style>\n",
       "<table border=\"1\" class=\"dataframe\">\n",
       "  <thead>\n",
       "    <tr style=\"text-align: right;\">\n",
       "      <th></th>\n",
       "      <th>text</th>\n",
       "      <th>embeddings</th>\n",
       "      <th>distances</th>\n",
       "    </tr>\n",
       "  </thead>\n",
       "  <tbody>\n",
       "    <tr>\n",
       "      <th>63</th>\n",
       "      <td>March 2 – Russian invasion of Ukraine: Russia ...</td>\n",
       "      <td>[0.0007359696901403368, -0.018379738554358482,...</td>\n",
       "      <td>0.109123</td>\n",
       "    </tr>\n",
       "    <tr>\n",
       "      <th>93</th>\n",
       "      <td>April 3 – Russian invasion of Ukraine: As Russ...</td>\n",
       "      <td>[-0.012180210091173649, -0.012394352816045284,...</td>\n",
       "      <td>0.111432</td>\n",
       "    </tr>\n",
       "    <tr>\n",
       "      <th>248</th>\n",
       "      <td>November 11 – Russian invasion of Ukraine: Ukr...</td>\n",
       "      <td>[-0.011985236778855324, -0.013950132764875889,...</td>\n",
       "      <td>0.115485</td>\n",
       "    </tr>\n",
       "    <tr>\n",
       "      <th>206</th>\n",
       "      <td>September 21 – Russian invasion of Ukraine: Fo...</td>\n",
       "      <td>[-0.025452367961406708, -0.022093625739216805,...</td>\n",
       "      <td>0.116849</td>\n",
       "    </tr>\n",
       "    <tr>\n",
       "      <th>128</th>\n",
       "      <td>May 16 – Russian invasion of Ukraine: The Sieg...</td>\n",
       "      <td>[-0.018325934186577797, -0.006523981224745512,...</td>\n",
       "      <td>0.119192</td>\n",
       "    </tr>\n",
       "  </tbody>\n",
       "</table>\n",
       "</div>"
      ],
      "text/plain": [
       "                                                  text  \\\n",
       "63   March 2 – Russian invasion of Ukraine: Russia ...   \n",
       "93   April 3 – Russian invasion of Ukraine: As Russ...   \n",
       "248  November 11 – Russian invasion of Ukraine: Ukr...   \n",
       "206  September 21 – Russian invasion of Ukraine: Fo...   \n",
       "128  May 16 – Russian invasion of Ukraine: The Sieg...   \n",
       "\n",
       "                                            embeddings  distances  \n",
       "63   [0.0007359696901403368, -0.018379738554358482,...   0.109123  \n",
       "93   [-0.012180210091173649, -0.012394352816045284,...   0.111432  \n",
       "248  [-0.011985236778855324, -0.013950132764875889,...   0.115485  \n",
       "206  [-0.025452367961406708, -0.022093625739216805,...   0.116849  \n",
       "128  [-0.018325934186577797, -0.006523981224745512,...   0.119192  "
      ]
     },
     "execution_count": 109,
     "metadata": {},
     "output_type": "execute_result"
    }
   ],
   "source": [
    "df = get_rows_sorted_by_relevance(\"When did Russia invade Ukraine?\", df)\n",
    "df.head()"
   ]
  },
  {
   "cell_type": "code",
   "execution_count": 110,
   "id": "9f4a3b50",
   "metadata": {},
   "outputs": [
    {
     "data": {
      "text/html": [
       "<div>\n",
       "<style scoped>\n",
       "    .dataframe tbody tr th:only-of-type {\n",
       "        vertical-align: middle;\n",
       "    }\n",
       "\n",
       "    .dataframe tbody tr th {\n",
       "        vertical-align: top;\n",
       "    }\n",
       "\n",
       "    .dataframe thead th {\n",
       "        text-align: right;\n",
       "    }\n",
       "</style>\n",
       "<table border=\"1\" class=\"dataframe\">\n",
       "  <thead>\n",
       "    <tr style=\"text-align: right;\">\n",
       "      <th></th>\n",
       "      <th>text</th>\n",
       "      <th>embeddings</th>\n",
       "      <th>distances</th>\n",
       "    </tr>\n",
       "  </thead>\n",
       "  <tbody>\n",
       "    <tr>\n",
       "      <th>229</th>\n",
       "      <td>October 28 – Elon Musk completes his $44 billi...</td>\n",
       "      <td>[-0.010196715593338013, -0.016054941341280937,...</td>\n",
       "      <td>0.172969</td>\n",
       "    </tr>\n",
       "    <tr>\n",
       "      <th>111</th>\n",
       "      <td>April 25 – Elon Musk reaches an agreement to a...</td>\n",
       "      <td>[-0.011515718884766102, -0.014650552533566952,...</td>\n",
       "      <td>0.182215</td>\n",
       "    </tr>\n",
       "    <tr>\n",
       "      <th>32</th>\n",
       "      <td>January 24 – The federal government under Scot...</td>\n",
       "      <td>[-0.008993596769869328, -0.008628109470009804,...</td>\n",
       "      <td>0.246601</td>\n",
       "    </tr>\n",
       "    <tr>\n",
       "      <th>247</th>\n",
       "      <td>November 11 – The cryptocurrency exchange FTX,...</td>\n",
       "      <td>[0.002425569109618664, -0.0252867229282856, -1...</td>\n",
       "      <td>0.262706</td>\n",
       "    </tr>\n",
       "    <tr>\n",
       "      <th>259</th>\n",
       "      <td>November 30 – OpenAI releases ChatGPT, an arti...</td>\n",
       "      <td>[-0.011264772154390812, -0.014390257187187672,...</td>\n",
       "      <td>0.264689</td>\n",
       "    </tr>\n",
       "  </tbody>\n",
       "</table>\n",
       "</div>"
      ],
      "text/plain": [
       "                                                  text  \\\n",
       "229  October 28 – Elon Musk completes his $44 billi...   \n",
       "111  April 25 – Elon Musk reaches an agreement to a...   \n",
       "32   January 24 – The federal government under Scot...   \n",
       "247  November 11 – The cryptocurrency exchange FTX,...   \n",
       "259  November 30 – OpenAI releases ChatGPT, an arti...   \n",
       "\n",
       "                                            embeddings  distances  \n",
       "229  [-0.010196715593338013, -0.016054941341280937,...   0.172969  \n",
       "111  [-0.011515718884766102, -0.014650552533566952,...   0.182215  \n",
       "32   [-0.008993596769869328, -0.008628109470009804,...   0.246601  \n",
       "247  [0.002425569109618664, -0.0252867229282856, -1...   0.262706  \n",
       "259  [-0.011264772154390812, -0.014390257187187672,...   0.264689  "
      ]
     },
     "execution_count": 110,
     "metadata": {},
     "output_type": "execute_result"
    }
   ],
   "source": [
    "df = get_rows_sorted_by_relevance(\"Who owns Twitter?\", df)\n",
    "df.head()"
   ]
  },
  {
   "cell_type": "code",
   "execution_count": 111,
   "id": "e88074f0",
   "metadata": {},
   "outputs": [],
   "source": [
    "df.to_csv(\"distances.csv\", index=False)"
   ]
  },
  {
   "cell_type": "code",
   "execution_count": 112,
   "id": "c766d632",
   "metadata": {},
   "outputs": [
    {
     "data": {
      "text/html": [
       "<div>\n",
       "<style scoped>\n",
       "    .dataframe tbody tr th:only-of-type {\n",
       "        vertical-align: middle;\n",
       "    }\n",
       "\n",
       "    .dataframe tbody tr th {\n",
       "        vertical-align: top;\n",
       "    }\n",
       "\n",
       "    .dataframe thead th {\n",
       "        text-align: right;\n",
       "    }\n",
       "</style>\n",
       "<table border=\"1\" class=\"dataframe\">\n",
       "  <thead>\n",
       "    <tr style=\"text-align: right;\">\n",
       "      <th></th>\n",
       "      <th>text</th>\n",
       "      <th>embeddings</th>\n",
       "      <th>distances</th>\n",
       "    </tr>\n",
       "  </thead>\n",
       "  <tbody>\n",
       "    <tr>\n",
       "      <th>0</th>\n",
       "      <td>October 28 – Elon Musk completes his $44 billi...</td>\n",
       "      <td>[-0.010196715593338013, -0.016054941341280937,...</td>\n",
       "      <td>0.172969</td>\n",
       "    </tr>\n",
       "    <tr>\n",
       "      <th>1</th>\n",
       "      <td>April 25 – Elon Musk reaches an agreement to a...</td>\n",
       "      <td>[-0.011515718884766102, -0.014650552533566952,...</td>\n",
       "      <td>0.182215</td>\n",
       "    </tr>\n",
       "    <tr>\n",
       "      <th>2</th>\n",
       "      <td>January 24 – The federal government under Scot...</td>\n",
       "      <td>[-0.008993596769869328, -0.008628109470009804,...</td>\n",
       "      <td>0.246601</td>\n",
       "    </tr>\n",
       "    <tr>\n",
       "      <th>3</th>\n",
       "      <td>November 11 – The cryptocurrency exchange FTX,...</td>\n",
       "      <td>[0.002425569109618664, -0.0252867229282856, -1...</td>\n",
       "      <td>0.262706</td>\n",
       "    </tr>\n",
       "    <tr>\n",
       "      <th>4</th>\n",
       "      <td>November 30 – OpenAI releases ChatGPT, an arti...</td>\n",
       "      <td>[-0.011264772154390812, -0.014390257187187672,...</td>\n",
       "      <td>0.264689</td>\n",
       "    </tr>\n",
       "  </tbody>\n",
       "</table>\n",
       "</div>"
      ],
      "text/plain": [
       "                                                text  \\\n",
       "0  October 28 – Elon Musk completes his $44 billi...   \n",
       "1  April 25 – Elon Musk reaches an agreement to a...   \n",
       "2  January 24 – The federal government under Scot...   \n",
       "3  November 11 – The cryptocurrency exchange FTX,...   \n",
       "4  November 30 – OpenAI releases ChatGPT, an arti...   \n",
       "\n",
       "                                          embeddings  distances  \n",
       "0  [-0.010196715593338013, -0.016054941341280937,...   0.172969  \n",
       "1  [-0.011515718884766102, -0.014650552533566952,...   0.182215  \n",
       "2  [-0.008993596769869328, -0.008628109470009804,...   0.246601  \n",
       "3  [0.002425569109618664, -0.0252867229282856, -1...   0.262706  \n",
       "4  [-0.011264772154390812, -0.014390257187187672,...   0.264689  "
      ]
     },
     "execution_count": 112,
     "metadata": {},
     "output_type": "execute_result"
    }
   ],
   "source": [
    "df = pd.read_csv(\"distances.csv\")\n",
    "df[\"embeddings\"] = df[\"embeddings\"].apply(ast.literal_eval)\n",
    "df.head()"
   ]
  },
  {
   "cell_type": "code",
   "execution_count": 113,
   "id": "1a8b1baa",
   "metadata": {},
   "outputs": [
    {
     "data": {
      "text/plain": [
       "list"
      ]
     },
     "execution_count": 113,
     "metadata": {},
     "output_type": "execute_result"
    }
   ],
   "source": [
    "type(df[\"embeddings\"].loc[0])"
   ]
  },
  {
   "cell_type": "markdown",
   "id": "d7468993",
   "metadata": {},
   "source": [
    "# Step 3: Create a Function that Composes a Text Prompt\n",
    "\n",
    "Building on that sorted list of rows, we're going to select the create a text prompt that provides context to a `completions` model in order to help it answer a question. The outline of the prompt looks like this:"
   ]
  },
  {
   "cell_type": "markdown",
   "id": "dab2a827",
   "metadata": {},
   "source": [
    "```\n",
    "Answer the question based on the context below, and if the\n",
    "question can't be answered based on the context, say \"I don't\n",
    "know\"\n",
    "\n",
    "Context:\n",
    "\n",
    "{context}\n",
    "\n",
    "---\n",
    "\n",
    "Question: {question}\n",
    "Answer:\n",
    "```"
   ]
  },
  {
   "cell_type": "markdown",
   "id": "1c74ff9d",
   "metadata": {},
   "source": [
    "We want to fit as much of our dataset as possible into the \"context\" part of the prompt without exceeding the number of tokens allowed by the `completions` model, which is currently 4,000. So we'll loop over the dataset, counting the tokens as we go, and stop when we hit the limit. Then we'll join that list of text data into a single string and add it to the prompt."
   ]
  },
  {
   "cell_type": "code",
   "execution_count": 116,
   "id": "6fd5d64b",
   "metadata": {},
   "outputs": [
    {
     "data": {
      "text/plain": [
       "7"
      ]
     },
     "execution_count": 116,
     "metadata": {},
     "output_type": "execute_result"
    }
   ],
   "source": [
    "# If we want to use the full context size,\n",
    "# we can use the tiktoken library to count tokens:\n",
    "# tokens of the question and the context = tokens of the prompt\n",
    "import tiktoken\n",
    "tokenizer = tiktoken.get_encoding(\"cl100k_base\")\n",
    "len(tokenizer.encode(\"Answer the question based on the context\"))"
   ]
  },
  {
   "cell_type": "code",
   "execution_count": 117,
   "id": "a08a4e7c",
   "metadata": {},
   "outputs": [],
   "source": [
    "df = pd.read_csv(\"embeddings.csv\")\n",
    "df[\"embeddings\"] = df[\"embeddings\"].apply(ast.literal_eval)"
   ]
  },
  {
   "cell_type": "code",
   "execution_count": 118,
   "id": "9c237429",
   "metadata": {},
   "outputs": [],
   "source": [
    "import tiktoken\n",
    "\n",
    "def create_prompt(question, df, max_token_count):\n",
    "    \"\"\"\n",
    "    Given a question and a dataframe containing rows of text and their\n",
    "    embeddings, return a text prompt to send to a Completion model\n",
    "    \"\"\"\n",
    "    # Create a tokenizer that is designed to align with our embeddings\n",
    "    tokenizer = tiktoken.get_encoding(\"cl100k_base\")\n",
    "    \n",
    "    # Count the number of tokens in the prompt template and question\n",
    "    prompt_template = \"\"\"\n",
    "Answer the question based on the context below, and if the question\n",
    "can't be answered based on the context, say \"I don't know\"\n",
    "\n",
    "Context: \n",
    "\n",
    "{}\n",
    "\n",
    "---\n",
    "\n",
    "Question: {}\n",
    "Answer:\"\"\"\n",
    "    \n",
    "    current_token_count = len(tokenizer.encode(prompt_template)) + \\\n",
    "                            len(tokenizer.encode(question))\n",
    "    \n",
    "    context = []\n",
    "    for text in get_rows_sorted_by_relevance(question, df)[\"text\"].values:\n",
    "        \n",
    "        # Increase the counter based on the number of tokens in this row\n",
    "        text_token_count = len(tokenizer.encode(text))\n",
    "        current_token_count += text_token_count\n",
    "        \n",
    "        # Add the row of text to the list if we haven't exceeded the max\n",
    "        if current_token_count <= max_token_count:\n",
    "            context.append(text)\n",
    "        else:\n",
    "            break\n",
    "\n",
    "    return prompt_template.format(\"\\n\\n###\\n\\n\".join(context), question)\n",
    "    "
   ]
  },
  {
   "cell_type": "markdown",
   "id": "5f2c6a02",
   "metadata": {},
   "source": [
    "Now let's test that out! We'll use a `max_token_count` below the actual limit just to keep the output shorter and more readable."
   ]
  },
  {
   "cell_type": "code",
   "execution_count": 119,
   "id": "eb5d6882",
   "metadata": {},
   "outputs": [
    {
     "name": "stdout",
     "output_type": "stream",
     "text": [
      "\n",
      "Answer the question based on the context below, and if the question\n",
      "can't be answered based on the context, say \"I don't know\"\n",
      "\n",
      "Context: \n",
      "\n",
      "March 2 – Russian invasion of Ukraine: Russia captures its first large city, the Black Sea port of Kherson, as shelling intensifies across many parts of Ukraine, including civilian areas.\n",
      "\n",
      "###\n",
      "\n",
      "April 3 – Russian invasion of Ukraine: As Russia's forces retreat from areas near Kyiv, it is accused by Ukraine of war crimes, amid mounting evidence of indiscriminate civilian killings, including the Bucha massacre.\n",
      "\n",
      "###\n",
      "\n",
      "November 11 – Russian invasion of Ukraine: Ukrainian forces recapture Kherson, the only regional capital to be taken by Russia since the start of the war.\n",
      "\n",
      "---\n",
      "\n",
      "Question: When did Russia invade Ukraine?\n",
      "Answer:\n"
     ]
    }
   ],
   "source": [
    "print(create_prompt(\"When did Russia invade Ukraine?\", df, 200))"
   ]
  },
  {
   "cell_type": "code",
   "execution_count": 120,
   "id": "c7b6fb2a",
   "metadata": {
    "scrolled": false
   },
   "outputs": [
    {
     "name": "stdout",
     "output_type": "stream",
     "text": [
      "\n",
      "Answer the question based on the context below, and if the question\n",
      "can't be answered based on the context, say \"I don't know\"\n",
      "\n",
      "Context: \n",
      "\n",
      "October 28 – Elon Musk completes his $44 billion acquisition of Twitter.\n",
      "\n",
      "###\n",
      "\n",
      "April 25 – Elon Musk reaches an agreement to acquire the social media network Twitter (which he later rebrands as X) for $44 billion USD, which later closes in October.\n",
      "\n",
      "---\n",
      "\n",
      "Question: Who owns Twitter?\n",
      "Answer:\n"
     ]
    }
   ],
   "source": [
    "print(create_prompt(\"Who owns Twitter?\", df, 100))"
   ]
  },
  {
   "cell_type": "markdown",
   "id": "403f11b5",
   "metadata": {},
   "source": [
    "# Step 4: Create a Function that Answers a Question\n",
    "\n",
    "Our final step is to send that text prompt to a `Completion` model and parse the model output!"
   ]
  },
  {
   "cell_type": "code",
   "execution_count": 124,
   "id": "5004879e",
   "metadata": {},
   "outputs": [],
   "source": [
    "COMPLETION_MODEL_NAME = \"gpt-3.5-turbo-instruct\"\n",
    "\n",
    "def answer_question(\n",
    "    question, df, max_prompt_tokens=1800, max_answer_tokens=150\n",
    "):\n",
    "    \"\"\"\n",
    "    Given a question, a dataframe containing rows of text, and a maximum\n",
    "    number of desired tokens in the prompt and response, return the\n",
    "    answer to the question according to an OpenAI Completion model\n",
    "    \n",
    "    If the model produces an error, return an empty string\n",
    "    \"\"\"\n",
    "    prompt = create_prompt(question, df, max_prompt_tokens)\n",
    "\n",
    "    try:\n",
    "        response = client.completions.create(\n",
    "            model=COMPLETION_MODEL_NAME,\n",
    "            prompt=prompt,\n",
    "            max_tokens=max_answer_tokens,\n",
    "            temperature=0.7  # optional: defaults to 1.0\n",
    "        )\n",
    "        return response.choices[0].text.strip()\n",
    "    except Exception as e:\n",
    "        print(f\"Error during completion: {e}\")\n",
    "        return \"\""
   ]
  },
  {
   "cell_type": "markdown",
   "id": "6598a361",
   "metadata": {},
   "source": [
    "Now that we have all of the code complete, let's test it out!"
   ]
  },
  {
   "cell_type": "code",
   "execution_count": 125,
   "id": "16adca80",
   "metadata": {},
   "outputs": [
    {
     "name": "stdout",
     "output_type": "stream",
     "text": [
      "February 24 – missiles strike Kyiv.\n"
     ]
    }
   ],
   "source": [
    "custom_ukraine_answer = answer_question(\"When did Russia invade Ukraine?\", df)\n",
    "print(custom_ukraine_answer)"
   ]
  },
  {
   "cell_type": "code",
   "execution_count": 126,
   "id": "f71822dc",
   "metadata": {},
   "outputs": [
    {
     "name": "stdout",
     "output_type": "stream",
     "text": [
      "Elon Musk\n"
     ]
    }
   ],
   "source": [
    "custom_twitter_answer = answer_question(\"Who owns Twitter?\", df)\n",
    "print(custom_twitter_answer)"
   ]
  },
  {
   "cell_type": "markdown",
   "id": "15ad6fb6",
   "metadata": {},
   "source": [
    "Below we compare answers with and without our custom prompt:"
   ]
  },
  {
   "cell_type": "code",
   "execution_count": 127,
   "id": "8577558a",
   "metadata": {},
   "outputs": [
    {
     "name": "stdout",
     "output_type": "stream",
     "text": [
      "\n",
      "When did Russia invade Ukraine?\n",
      "\n",
      "Original Answer: Russia invaded Ukraine in February 2014.\n",
      "Custom Answer:   February 24 – missiles strike Kyiv.\n",
      "\n",
      "Who owns Twitter?\n",
      "Original Answer: Twitter Inc. is the company that owns the social media platform Twitter. It was founded by Jack Dorsey, Evan Williams, Biz Stone, and Noah Glass in 2006. As of 2021, Jack Dorsey is the current CEO and largest shareholder of Twitter. Other major shareholders include venture capital firms and institutional investors.\n",
      "Custom Answer:   Elon Musk\n",
      "\n"
     ]
    }
   ],
   "source": [
    "print(f\"\"\"\n",
    "When did Russia invade Ukraine?\n",
    "\n",
    "Original Answer: {initial_ukraine_answer}\n",
    "Custom Answer:   {custom_ukraine_answer}\n",
    "\n",
    "Who owns Twitter?\n",
    "Original Answer: {initial_twitter_answer}\n",
    "Custom Answer:   {custom_twitter_answer}\n",
    "\"\"\")"
   ]
  },
  {
   "cell_type": "markdown",
   "id": "9ecaede2",
   "metadata": {},
   "source": [
    "## Summary\n",
    "\n",
    "You just used unsupervised machine learning to perform prompt engineering for custom OpenAI chat responses!\n",
    "\n",
    "In this example, we provided context from 2022 news headlines to answer questions about current events. Try finding your own dataset for some other custom task!"
   ]
  },
  {
   "cell_type": "code",
   "execution_count": null,
   "id": "d16421d0",
   "metadata": {},
   "outputs": [],
   "source": []
  }
 ],
 "metadata": {
  "kernelspec": {
   "display_name": "genai",
   "language": "python",
   "name": "python3"
  },
  "language_info": {
   "codemirror_mode": {
    "name": "ipython",
    "version": 3
   },
   "file_extension": ".py",
   "mimetype": "text/x-python",
   "name": "python",
   "nbconvert_exporter": "python",
   "pygments_lexer": "ipython3",
   "version": "3.10.18"
  }
 },
 "nbformat": 4,
 "nbformat_minor": 5
}

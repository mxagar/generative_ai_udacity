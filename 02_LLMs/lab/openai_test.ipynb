{
 "cells": [
  {
   "cell_type": "markdown",
   "id": "376528d8",
   "metadata": {},
   "source": [
    "# OpenAI API Test"
   ]
  },
  {
   "cell_type": "code",
   "execution_count": 1,
   "id": "1d6b82e1",
   "metadata": {},
   "outputs": [],
   "source": [
    "import os\n",
    "import dotenv\n",
    "from dotenv import load_dotenv\n",
    "from openai import OpenAI"
   ]
  },
  {
   "cell_type": "code",
   "execution_count": 2,
   "id": "fc35a831",
   "metadata": {},
   "outputs": [
    {
     "data": {
      "text/plain": [
       "True"
      ]
     },
     "execution_count": 2,
     "metadata": {},
     "output_type": "execute_result"
    }
   ],
   "source": [
    "load_dotenv(\".env\")"
   ]
  },
  {
   "cell_type": "code",
   "execution_count": 3,
   "id": "a1b28336",
   "metadata": {},
   "outputs": [],
   "source": [
    "client = OpenAI(\n",
    "  api_key=os.environ['OPENAI_API_KEY'],\n",
    ")"
   ]
  },
  {
   "cell_type": "code",
   "execution_count": 4,
   "id": "59fa61f5",
   "metadata": {},
   "outputs": [
    {
     "name": "stdout",
     "output_type": "stream",
     "text": [
      "As of my last update in October 2023, GPT-4 and GPT-4o mini refer to different configurations or versions of the GPT-4 architecture. Here are the key differences:\n",
      "\n",
      "1. **Model Size and Capacity**:\n",
      "   - **GPT-4**: This is the standard version of the model, which typically has a larger number of parameters and is designed for more complex tasks and nuanced understanding of language.\n",
      "   - **GPT-4o mini**: This version is a smaller, optimized variant of GPT-4. It usually has fewer parameters, which allows it to run faster and require less computational power, making it suitable for applications where speed and efficiency are more critical than the highest possible performance.\n",
      "\n",
      "2. **Performance**:\n",
      "   - **GPT-4**: Generally provides better performance in understanding and generating text, handling complex queries, and maintaining context over longer interactions.\n",
      "   - **GPT-4o mini**: While still powerful, it may not perform as well as the full GPT-4 in terms of understanding intricate prompts or generating highly sophisticated responses.\n",
      "\n",
      "3. **Use Cases**:\n",
      "   - **GPT-4**: Often used for applications that require high levels of accuracy and sophistication, such as creative writing, technical writing, or detailed conversational agents.\n",
      "   - **GPT-4o mini**: More suitable for applications where quick responses and lower resource consumption are priorities, such as chatbots, simpler content generation, or mobile applications.\n",
      "\n",
      "4. **Cost and Resource Requirements**:\n",
      "   - **GPT-4**: Typically more expensive to run due to its larger size and resource requirements.\n",
      "   - **GPT-4o mini**: More cost-effective and efficient, making it accessible for a broader range of applications, particularly those on a budget or with limited computational resources.\n",
      "\n",
      "These distinctions may change as new models and updates are released, so it's always a good idea to check the latest documentation or announcements from OpenAI for the most current information.\n"
     ]
    }
   ],
   "source": [
    "response = client.chat.completions.create(\n",
    "    model=\"gpt-4o-mini\",\n",
    "    messages=[\n",
    "        {\"role\": \"system\", \"content\": \"You are a helpful assistant.\"},\n",
    "        {\"role\": \"user\", \"content\": \"What's the difference between GPT-4 and GPT-4o mini?\"}\n",
    "    ],\n",
    "    temperature=0.7\n",
    ")\n",
    "\n",
    "print(response.choices[0].message.content)"
   ]
  },
  {
   "cell_type": "code",
   "execution_count": null,
   "id": "47323994",
   "metadata": {},
   "outputs": [],
   "source": []
  }
 ],
 "metadata": {
  "kernelspec": {
   "display_name": "genai",
   "language": "python",
   "name": "python3"
  },
  "language_info": {
   "codemirror_mode": {
    "name": "ipython",
    "version": 3
   },
   "file_extension": ".py",
   "mimetype": "text/x-python",
   "name": "python",
   "nbconvert_exporter": "python",
   "pygments_lexer": "ipython3",
   "version": "3.10.18"
  }
 },
 "nbformat": 4,
 "nbformat_minor": 5
}

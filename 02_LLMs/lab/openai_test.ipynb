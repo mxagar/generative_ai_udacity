{
 "cells": [
  {
   "cell_type": "markdown",
   "id": "376528d8",
   "metadata": {},
   "source": [
    "# OpenAI API Test"
   ]
  },
  {
   "cell_type": "code",
   "execution_count": 1,
   "id": "1d6b82e1",
   "metadata": {},
   "outputs": [],
   "source": [
    "import os\n",
    "import dotenv\n",
    "from dotenv import load_dotenv\n",
    "from openai import OpenAI"
   ]
  },
  {
   "cell_type": "code",
   "execution_count": 2,
   "id": "fc35a831",
   "metadata": {},
   "outputs": [
    {
     "data": {
      "text/plain": [
       "True"
      ]
     },
     "execution_count": 2,
     "metadata": {},
     "output_type": "execute_result"
    }
   ],
   "source": [
    "load_dotenv(\".env\")"
   ]
  },
  {
   "cell_type": "code",
   "execution_count": 3,
   "id": "a1b28336",
   "metadata": {},
   "outputs": [],
   "source": [
    "client = OpenAI(\n",
    "  api_key=os.environ['OPENAI_API_KEY'],\n",
    ")"
   ]
  },
  {
   "cell_type": "code",
   "execution_count": 4,
   "id": "59fa61f5",
   "metadata": {},
   "outputs": [
    {
     "name": "stdout",
     "output_type": "stream",
     "text": [
      "As of my last update, GPT-4 and GPT-4o mini refer to different configurations of the GPT-4 architecture, with \"GPT-4o\" indicating a more optimized version of GPT-4. The \"mini\" designation typically suggests a smaller, more efficient variant of the model.\n",
      "\n",
      "Here are some key differences you might encounter:\n",
      "\n",
      "1. **Size and Parameters**: GPT-4o mini likely has fewer parameters than the standard GPT-4, making it less resource-intensive and faster in terms of processing. This may involve a trade-off in terms of complexity and the ability to understand nuanced inputs.\n",
      "\n",
      "2. **Performance**: While GPT-4 is designed to provide high-level understanding and generation capabilities, the mini version may be optimized for specific tasks or efficiency, potentially sacrificing some performance for speed and resource usage.\n",
      "\n",
      "3. **Use Cases**: The standard GPT-4 might be more suitable for complex applications that require deeper understanding, such as advanced creative writing or intricate problem-solving. In contrast, the GPT-4o mini could be aimed at applications where real-time performance is crucial or where computational resources are limited.\n",
      "\n",
      "4. **Deployment**: GPT-4o mini can be more accessible for developers working in environments with constrained resources, making it a good option for mobile applications or smaller-scale projects.\n",
      "\n",
      "These distinctions are common in the evolution of AI models, where different versions are tailored for varying needs and capabilities. For the most accurate and up-to-date information, it's best to refer to the latest documentation from OpenAI or the relevant organization.\n"
     ]
    }
   ],
   "source": [
    "response = client.chat.completions.create(\n",
    "    model=\"gpt-4o-mini\",\n",
    "    messages=[\n",
    "        {\"role\": \"system\", \"content\": \"You are a helpful assistant.\"},\n",
    "        {\"role\": \"user\", \"content\": \"What's the difference between GPT-4 and GPT-4o mini?\"}\n",
    "    ],\n",
    "    temperature=0.7\n",
    ")\n",
    "\n",
    "print(response.choices[0].message.content)"
   ]
  },
  {
   "cell_type": "code",
   "execution_count": null,
   "id": "47323994",
   "metadata": {},
   "outputs": [
    {
     "name": "stdout",
     "output_type": "stream",
     "text": [
      "Russia invaded Ukraine in February 2014.\n"
     ]
    }
   ],
   "source": [
    "# The model is answering this way because the training data ends in 2021.\n",
    "# Our task will be to provide context from 2022 to help the model answer these questions correctly.\n",
    "# That can be accomplished by using a Retrieval-Augmented Generation (RAG) approach.\n",
    "ukraine_prompt = \"\"\"\n",
    "Question: \"When did Russia invade Ukraine?\"\n",
    "Answer:\n",
    "\"\"\"\n",
    "\n",
    "response = client.completions.create(\n",
    "    model=\"gpt-3.5-turbo-instruct\",\n",
    "    prompt=ukraine_prompt,\n",
    "    max_tokens=150,\n",
    "    temperature=0.7,\n",
    ")\n",
    "\n",
    "initial_ukraine_answer = response.choices[0].text.strip()\n",
    "print(initial_ukraine_answer)"
   ]
  },
  {
   "cell_type": "markdown",
   "id": "b986b1d0",
   "metadata": {},
   "source": [
    "We can see that there are two main API calls:\n",
    "\n",
    "- `chat.completions.create`: for chat-based interactions, which supports roles, memory, and turns.\n",
    "- `completions.create`: for simple Q&A or text generation, which is prompt-only, and legacy-compatible."
   ]
  },
  {
   "cell_type": "markdown",
   "id": "386c1d0c",
   "metadata": {},
   "source": []
  }
 ],
 "metadata": {
  "kernelspec": {
   "display_name": "genai",
   "language": "python",
   "name": "python3"
  },
  "language_info": {
   "codemirror_mode": {
    "name": "ipython",
    "version": 3
   },
   "file_extension": ".py",
   "mimetype": "text/x-python",
   "name": "python",
   "nbconvert_exporter": "python",
   "pygments_lexer": "ipython3",
   "version": "3.10.18"
  }
 },
 "nbformat": 4,
 "nbformat_minor": 5
}

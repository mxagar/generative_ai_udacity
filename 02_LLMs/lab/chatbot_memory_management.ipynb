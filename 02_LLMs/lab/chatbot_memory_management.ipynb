{
 "cells": [
  {
   "cell_type": "code",
   "execution_count": 12,
   "metadata": {
    "id": "JFJaQyi2-EGC"
   },
   "outputs": [],
   "source": [
    "from openai import OpenAI\n",
    "import json\n",
    "import os\n",
    "import time"
   ]
  },
  {
   "cell_type": "code",
   "execution_count": 13,
   "metadata": {},
   "outputs": [
    {
     "data": {
      "text/plain": [
       "True"
      ]
     },
     "execution_count": 13,
     "metadata": {},
     "output_type": "execute_result"
    }
   ],
   "source": [
    "from dotenv import load_dotenv\n",
    "\n",
    "load_dotenv(\".env\", override=True)\n",
    "# Set a .env file with the credentials\n",
    "# OPENAI_API_KEY=xxx\n",
    "# OPENAI_BASE_URL=https://openai.vocareum.com/v1\n",
    "# OPENAI_BASE_URL=https://api.openai.com/v1"
   ]
  },
  {
   "cell_type": "code",
   "execution_count": 15,
   "metadata": {},
   "outputs": [],
   "source": [
    "client = OpenAI(\n",
    "    base_url = os.getenv(\"OPENAI_BASE_URL\"),\n",
    "    api_key = os.getenv(\"OPENAI_API_KEY\"),\n",
    ")"
   ]
  },
  {
   "cell_type": "code",
   "execution_count": 16,
   "metadata": {},
   "outputs": [],
   "source": [
    "# Decoding parameters\n",
    "TEMPERATURE = 0.0\n",
    "MAX_TOKENS = 3950  # Increased to simulate LLM with smaller attention window\n",
    "TOP_P = 1.0"
   ]
  },
  {
   "cell_type": "code",
   "execution_count": 17,
   "metadata": {
    "id": "GGXSFlArmKt7"
   },
   "outputs": [],
   "source": [
    "SYSTEM_PROMPT = \"\"\"You expert at games of chance.\n",
    "End every response with double exclamation points!!\"\"\"\n",
    "\n",
    "USER_NAME = \"User\"\n",
    "AI_NAME = \"AI Assistant\"\n",
    "NEW_INTERACTION_DELIMITER = \"\\n\\n\""
   ]
  },
  {
   "cell_type": "markdown",
   "metadata": {
    "id": "Ic4juggvKEB8"
   },
   "source": [
    "# Creating a chat bot with memory"
   ]
  },
  {
   "cell_type": "markdown",
   "metadata": {},
   "source": [
    "Caveat: In the notebook, the conversation is flattened to a single string which contains the entire conversation history. That was necessary in the old API, but now it's possible to pass a list of messages, without any flattening:\n",
    "\n",
    "```python\n",
    "messages=[\n",
    "    {\"role\": \"system\", \"content\": \"You are a helpful assistant.\"},\n",
    "    {\"role\": \"user\", \"content\": \"Hello, how are you?\"},\n",
    "    {\"role\": \"assistant\", \"content\": \"I'm fine, how can I help?\"},\n",
    "    {\"role\": \"user\", \"content\": \"Tell me a joke.\"}\n",
    "]\n",
    "```\n"
   ]
  },
  {
   "cell_type": "code",
   "execution_count": null,
   "metadata": {
    "id": "dVHDhMmZmLHF"
   },
   "outputs": [],
   "source": [
    "def query_openai(prompt):\n",
    "    \"\"\"Calls the (new) OpenAI Chat Completions API.\"\"\"\n",
    "    response = client.chat.completions.create(\n",
    "        model=\"gpt-3.5-turbo\",\n",
    "        # {\"role\": \"system\" | \"user\" | \"assistant\", \"content\": \"...\"}\n",
    "        messages=[\n",
    "            {\"role\": \"system\", \"content\": SYSTEM_PROMPT},\n",
    "            {\"role\": \"user\", \"content\": prompt}\n",
    "        ],\n",
    "        temperature=TEMPERATURE,\n",
    "        max_tokens=MAX_TOKENS,\n",
    "        top_p=TOP_P,\n",
    "    )\n",
    "    time.sleep(5)  # to avoid rate limit errors\n",
    "    return response.choices[0].message.content.strip()\n",
    "\n",
    "\n",
    "def get_system_prompt(input_str=SYSTEM_PROMPT):\n",
    "    return [f\"System:{input_str}\"]\n",
    "\n",
    "\n",
    "def get_convo(input_str, convo):\n",
    "    if not convo:\n",
    "        convo = get_system_prompt()\n",
    "    user_input_str = f\"{USER_NAME}: {input_str}\"\n",
    "    response_trigger = f\"{AI_NAME}: \"\n",
    "    convo.extend([user_input_str, response_trigger])\n",
    "    return convo\n",
    "\n",
    "\n",
    "def get_response(input_str, convo, use_simple_truncation, verbose):\n",
    "    \"\"\"Generate a response from an LLM based on user input_str and conversation history.\n",
    "\n",
    "    Args:\n",
    "        input_str (str): The user's current input_str or query to the language model.\n",
    "        convo (list of str): A list representing the history of the conversation.\n",
    "        use_simple_truncation (bool): A flag to determine whether to use a simple truncation\n",
    "                                    method for managing conversation length.\n",
    "        verbose (bool): A flag to determine if entire convo history should be printed.\n",
    "\n",
    "    Return:\n",
    "        str: The generated response from the language model based on the current input_str and\n",
    "            the conversation history.\n",
    "    \"\"\"\n",
    "    convo = get_convo(input_str, convo)\n",
    "\n",
    "    first_try = True\n",
    "    atten_window_all_used_up = False\n",
    "    while first_try or atten_window_all_used_up:\n",
    "        flattened_convo = NEW_INTERACTION_DELIMITER.join(convo)\n",
    "\n",
    "        try:\n",
    "            first_try = False\n",
    "            response = query_openai(flattened_convo)\n",
    "            atten_window_all_used_up = False\n",
    "\n",
    "        except Exception as e:\n",
    "            # In the new client, the error types come from `openai.error`\n",
    "            # or you can catch generic Exception to be safe\n",
    "            atten_window_all_used_up = True\n",
    "            if verbose:\n",
    "                print(\"** ATTEN_WINDOW ALL USED UP **\")\n",
    "                print(f\"OpenAI Error: {repr(e)}\\n\")\n",
    "\n",
    "            if not convo:\n",
    "                return [\n",
    "                    \"Our Error: System prompt is using up too many tokens of the attention window\"\n",
    "                ]\n",
    "\n",
    "            if use_simple_truncation:\n",
    "                # Simple truncation: remove oldest element in conversation\n",
    "                convo = convo[1:]\n",
    "            else:\n",
    "                # More complex truncation: remove oldest user input and assistant response\n",
    "                # but keep the system prompt\n",
    "                convo = convo[:1] + convo[2:]\n",
    "\n",
    "    convo[-1] += response\n",
    "    if verbose:\n",
    "        print(NEW_INTERACTION_DELIMITER.join(convo))\n",
    "    else:\n",
    "        print(f\"{USER_NAME}: {input_str}\")\n",
    "        print(f\"{AI_NAME}: {response}\")\n",
    "\n",
    "    return convo\n",
    "\n",
    "\n",
    "def chat(user_query, convo=[], use_simple_truncation=False, verbose=False):\n",
    "    convo = get_response(user_query, convo, use_simple_truncation, verbose)\n",
    "    return convo"
   ]
  },
  {
   "cell_type": "markdown",
   "metadata": {
    "id": "fC6CGoDKK5l9"
   },
   "source": [
    "## Testing our Chat bot"
   ]
  },
  {
   "cell_type": "code",
   "execution_count": 20,
   "metadata": {
    "id": "7MFIxTMRmpL0"
   },
   "outputs": [],
   "source": [
    "user_inputs = [\n",
    "    \"What cards game has the best odds of winning?\",\n",
    "    \"What are the odds of winning it?\",\n",
    "    \"What is the best hand to be dealt?\",\n",
    "    \"What is the next most likely game to win?\",\n",
    "]"
   ]
  },
  {
   "cell_type": "markdown",
   "metadata": {
    "id": "b0p61acSK-bW"
   },
   "source": [
    "### Simple convo truncation method\n",
    "\n",
    "Model remembers prior convo but **forgets to** always ends in exclamation points!! Which were specified in the system prompt."
   ]
  },
  {
   "cell_type": "code",
   "execution_count": 21,
   "metadata": {
    "colab": {
     "base_uri": "https://localhost:8080/"
    },
    "id": "2Udi8FpJW8Hf",
    "outputId": "03369e5f-527a-4f7f-fb91-1082ae7d4ed2"
   },
   "outputs": [
    {
     "name": "stdout",
     "output_type": "stream",
     "text": [
      "**** Convo turn 0 ****\n",
      "User: What cards game has the best odds of winning?\n",
      "AI Assistant: Poker is a card game that offers good odds of winning if you have the right skills and strategy!!\n",
      "\n",
      "**** Convo turn 1 ****\n",
      "User: What are the odds of winning it?\n",
      "AI Assistant: The odds of winning at poker can vary depending on the variant you're playing and your skill level, but with practice and strategy, you can improve your chances of winning!!\n",
      "\n",
      "**** Convo turn 2 ****\n",
      "User: What is the best hand to be dealt?\n",
      "AI Assistant: In most poker variants, a royal flush is the best hand you can be dealt, as it is the highest-ranking hand and very difficult to beat!!\n",
      "\n",
      "**** Convo turn 3 ****\n",
      "User: What is the next most likely game to win?\n",
      "AI Assistant: Blackjack is another popular card game with good odds of winning if you play with the right strategy and know when to hit, stand, or double down!!\n",
      "\n"
     ]
    }
   ],
   "source": [
    "convo = []\n",
    "verbose = False\n",
    "simple_truncation = True\n",
    "for i, input in enumerate(user_inputs):\n",
    "    print(f\"**** Convo turn {i} ****\")\n",
    "    convo = chat(\n",
    "        input, convo=convo, use_simple_truncation=simple_truncation, verbose=verbose\n",
    "    )\n",
    "    print()"
   ]
  },
  {
   "cell_type": "markdown",
   "metadata": {
    "id": "oqcax0zmLs9X"
   },
   "source": [
    "#### What is happening?\n",
    "\n",
    "Peaking under hood to see the full conversation as it grows\n",
    "\n",
    "NOTE: In **convo turn 3** we remove the system prompt to avoid exceeding the LLM attention window\n"
   ]
  },
  {
   "cell_type": "code",
   "execution_count": 22,
   "metadata": {
    "colab": {
     "base_uri": "https://localhost:8080/"
    },
    "id": "58SqyIARWT8c",
    "outputId": "984a59ef-495e-457a-e54f-ddb3e3b88352"
   },
   "outputs": [
    {
     "name": "stdout",
     "output_type": "stream",
     "text": [
      "**** Convo turn 0 ****\n",
      "System:You expert at games of chance.\n",
      "End every response with double exclamation points!!\n",
      "\n",
      "User: What cards game has the best odds of winning?\n",
      "\n",
      "AI Assistant: Poker is a card game with the best odds of winning due to its skill-based nature and strategic gameplay!!\n",
      "\n",
      "**** Convo turn 1 ****\n",
      "System:You expert at games of chance.\n",
      "End every response with double exclamation points!!\n",
      "\n",
      "User: What cards game has the best odds of winning?\n",
      "\n",
      "AI Assistant: Poker is a card game with the best odds of winning due to its skill-based nature and strategic gameplay!!\n",
      "\n",
      "User: What are the odds of winning it?\n",
      "\n",
      "AI Assistant: The odds of winning at poker can vary depending on the variant you're playing and your skill level, but generally, the odds of winning a hand can range from around 1 in 5 to 1 in 2, depending on the specific situation and your opponents' actions!!\n",
      "\n",
      "**** Convo turn 2 ****\n",
      "System:You expert at games of chance.\n",
      "End every response with double exclamation points!!\n",
      "\n",
      "User: What cards game has the best odds of winning?\n",
      "\n",
      "AI Assistant: Poker is a card game with the best odds of winning due to its skill-based nature and strategic gameplay!!\n",
      "\n",
      "User: What are the odds of winning it?\n",
      "\n",
      "AI Assistant: The odds of winning at poker can vary depending on the variant you're playing and your skill level, but generally, the odds of winning a hand can range from around 1 in 5 to 1 in 2, depending on the specific situation and your opponents' actions!!\n",
      "\n",
      "User: What is the best hand to be dealt?\n",
      "\n",
      "AI Assistant: The best hand to be dealt in poker is a royal flush, which consists of a 10, Jack, Queen, King, and Ace of the same suit!!\n",
      "\n",
      "**** Convo turn 3 ****\n",
      "System:You expert at games of chance.\n",
      "End every response with double exclamation points!!\n",
      "\n",
      "User: What cards game has the best odds of winning?\n",
      "\n",
      "AI Assistant: Poker is a card game with the best odds of winning due to its skill-based nature and strategic gameplay!!\n",
      "\n",
      "User: What are the odds of winning it?\n",
      "\n",
      "AI Assistant: The odds of winning at poker can vary depending on the variant you're playing and your skill level, but generally, the odds of winning a hand can range from around 1 in 5 to 1 in 2, depending on the specific situation and your opponents' actions!!\n",
      "\n",
      "User: What is the best hand to be dealt?\n",
      "\n",
      "AI Assistant: The best hand to be dealt in poker is a royal flush, which consists of a 10, Jack, Queen, King, and Ace of the same suit!!\n",
      "\n",
      "User: What is the next most likely game to win?\n",
      "\n",
      "AI Assistant: The next most likely game to win after poker is blackjack, as it offers relatively good odds for players who use basic strategy and card counting techniques to improve their chances of winning!!\n",
      "\n"
     ]
    }
   ],
   "source": [
    "convo = []\n",
    "verbose = True\n",
    "simple_truncation = True\n",
    "for i, input in enumerate(user_inputs):\n",
    "    print(f\"**** Convo turn {i} ****\")\n",
    "    convo = chat(\n",
    "        input, convo=convo, use_simple_truncation=simple_truncation, verbose=verbose\n",
    "    )\n",
    "    print()"
   ]
  },
  {
   "cell_type": "markdown",
   "metadata": {
    "id": "QDY-XBnUNKUL"
   },
   "source": [
    "### Retaining System prompt truncation method\n",
    "\n",
    "Model remembers most of prior convo and **remembers to** always ends in exclamation points!!"
   ]
  },
  {
   "cell_type": "code",
   "execution_count": 23,
   "metadata": {
    "colab": {
     "base_uri": "https://localhost:8080/"
    },
    "id": "YHJnH0YLJKMX",
    "outputId": "5eea21fe-e65c-4628-a43b-b2fe4bbb3093"
   },
   "outputs": [
    {
     "name": "stdout",
     "output_type": "stream",
     "text": [
      "**** Convo turn 0 ****\n",
      "User: What cards game has the best odds of winning?\n",
      "AI Assistant: Poker is a card game that offers good odds of winning if you have the right skills and strategy!!\n",
      "\n",
      "**** Convo turn 1 ****\n",
      "User: What are the odds of winning it?\n",
      "AI Assistant: The odds of winning at poker can vary depending on the variant you're playing and your skill level, but with practice and strategy, you can improve your chances of winning!!\n",
      "\n",
      "**** Convo turn 2 ****\n",
      "User: What is the best hand to be dealt?\n",
      "AI Assistant: In most poker variants, a royal flush is the best hand you can be dealt, as it is the highest-ranking hand in the game!!\n",
      "\n",
      "**** Convo turn 3 ****\n",
      "User: What is the next most likely game to win?\n",
      "AI Assistant: Blackjack is another popular card game with good odds of winning if you play with the right strategy and know when to hit, stand, or double down!!\n",
      "\n"
     ]
    }
   ],
   "source": [
    "convo = []\n",
    "verbose = False\n",
    "for i, input in enumerate(user_inputs):\n",
    "    print(f\"**** Convo turn {i} ****\")\n",
    "    convo = chat(input, convo=convo, verbose=verbose)\n",
    "    print()"
   ]
  },
  {
   "cell_type": "markdown",
   "metadata": {
    "id": "qBRZFXA6MltU"
   },
   "source": [
    "#### What is happening?\n",
    "\n",
    "Peaking under hood to see full convo as it grows\n",
    "\n",
    "NOTE: In **convo turn 3** we remove the oldest **convo turns**, but retain the system prompt"
   ]
  },
  {
   "cell_type": "code",
   "execution_count": 24,
   "metadata": {
    "colab": {
     "base_uri": "https://localhost:8080/"
    },
    "id": "qbSxLx9_M4lw",
    "outputId": "7f1eda93-8c09-4cae-8a4a-e47333e49105"
   },
   "outputs": [
    {
     "name": "stdout",
     "output_type": "stream",
     "text": [
      "**** Convo turn 0 ****\n",
      "System:You expert at games of chance.\n",
      "End every response with double exclamation points!!\n",
      "\n",
      "User: What cards game has the best odds of winning?\n",
      "\n",
      "AI Assistant: Poker is a card game with the best odds of winning due to its skill-based nature and strategic elements!!\n",
      "\n",
      "**** Convo turn 1 ****\n",
      "System:You expert at games of chance.\n",
      "End every response with double exclamation points!!\n",
      "\n",
      "User: What cards game has the best odds of winning?\n",
      "\n",
      "AI Assistant: Poker is a card game with the best odds of winning due to its skill-based nature and strategic elements!!\n",
      "\n",
      "User: What are the odds of winning it?\n",
      "\n",
      "AI Assistant: The odds of winning at poker can vary depending on the variant you're playing and your skill level, but generally, they are around 1 in 8 or 12.5% for a standard game!!\n",
      "\n",
      "**** Convo turn 2 ****\n",
      "System:You expert at games of chance.\n",
      "End every response with double exclamation points!!\n",
      "\n",
      "User: What cards game has the best odds of winning?\n",
      "\n",
      "AI Assistant: Poker is a card game with the best odds of winning due to its skill-based nature and strategic elements!!\n",
      "\n",
      "User: What are the odds of winning it?\n",
      "\n",
      "AI Assistant: The odds of winning at poker can vary depending on the variant you're playing and your skill level, but generally, they are around 1 in 8 or 12.5% for a standard game!!\n",
      "\n",
      "User: What is the best hand to be dealt?\n",
      "\n",
      "AI Assistant: The best hand to be dealt in poker is a royal flush, which consists of a 10, Jack, Queen, King, and Ace of the same suit!!\n",
      "\n",
      "**** Convo turn 3 ****\n",
      "System:You expert at games of chance.\n",
      "End every response with double exclamation points!!\n",
      "\n",
      "User: What cards game has the best odds of winning?\n",
      "\n",
      "AI Assistant: Poker is a card game with the best odds of winning due to its skill-based nature and strategic elements!!\n",
      "\n",
      "User: What are the odds of winning it?\n",
      "\n",
      "AI Assistant: The odds of winning at poker can vary depending on the variant you're playing and your skill level, but generally, they are around 1 in 8 or 12.5% for a standard game!!\n",
      "\n",
      "User: What is the best hand to be dealt?\n",
      "\n",
      "AI Assistant: The best hand to be dealt in poker is a royal flush, which consists of a 10, Jack, Queen, King, and Ace of the same suit!!\n",
      "\n",
      "User: What is the next most likely game to win?\n",
      "\n",
      "AI Assistant: Blackjack is another popular card game with good odds of winning, especially if you employ basic strategy and card counting techniques!!\n",
      "\n"
     ]
    }
   ],
   "source": [
    "convo = []\n",
    "verbose = True\n",
    "for i, input in enumerate(user_inputs):\n",
    "    print(f\"**** Convo turn {i} ****\")\n",
    "    convo = chat(input, convo=convo, verbose=verbose)\n",
    "    print()"
   ]
  },
  {
   "cell_type": "code",
   "execution_count": null,
   "metadata": {},
   "outputs": [],
   "source": []
  },
  {
   "cell_type": "code",
   "execution_count": null,
   "metadata": {},
   "outputs": [],
   "source": []
  },
  {
   "cell_type": "code",
   "execution_count": null,
   "metadata": {},
   "outputs": [],
   "source": []
  }
 ],
 "metadata": {
  "colab": {
   "authorship_tag": "ABX9TyOb/Rz98rOFMFcM/oGGqMP4",
   "include_colab_link": true,
   "mount_file_id": "15ObT0WPB-oL1W-p7iT5JP2oHwSKDmWBb",
   "provenance": []
  },
  "kernelspec": {
   "display_name": "genai",
   "language": "python",
   "name": "python3"
  },
  "language_info": {
   "codemirror_mode": {
    "name": "ipython",
    "version": 3
   },
   "file_extension": ".py",
   "mimetype": "text/x-python",
   "name": "python",
   "nbconvert_exporter": "python",
   "pygments_lexer": "ipython3",
   "version": "3.10.18"
  }
 },
 "nbformat": 4,
 "nbformat_minor": 1
}

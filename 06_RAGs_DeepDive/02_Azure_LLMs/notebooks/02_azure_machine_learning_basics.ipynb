{
 "cells": [
  {
   "cell_type": "markdown",
   "metadata": {},
   "source": [
    "# Azure Machine Learning"
   ]
  },
  {
   "cell_type": "markdown",
   "metadata": {},
   "source": [
    "## Import/Upload an ONNX Model to Azure Machine Learning"
   ]
  },
  {
   "cell_type": "markdown",
   "metadata": {},
   "source": [
    "### Define and Train Model"
   ]
  },
  {
   "cell_type": "code",
   "execution_count": 11,
   "metadata": {},
   "outputs": [],
   "source": [
    "import torch\n",
    "import torch.nn as nn\n",
    "import torch.optim as optim\n",
    "import torchvision\n",
    "import torchvision.transforms as transforms\n",
    "from torch.utils.data import DataLoader\n",
    "\n",
    "import numpy as np\n",
    "import matplotlib.pyplot as plt"
   ]
  },
  {
   "cell_type": "code",
   "execution_count": 37,
   "metadata": {},
   "outputs": [
    {
     "name": "stdout",
     "output_type": "stream",
     "text": [
      "Files already downloaded and verified\n",
      "Files already downloaded and verified\n",
      "Files already downloaded and verified\n"
     ]
    }
   ],
   "source": [
    "# Load CIFAR-10 dataset\n",
    "transform = transforms.Compose([transforms.ToTensor(), transforms.Normalize((0.5,), (0.5,))])\n",
    "trainset = torchvision.datasets.CIFAR10(root='./data', train=True, download=True, transform=transform)\n",
    "testset = torchvision.datasets.CIFAR10(root='./data', train=False, download=True, transform=transform)\n",
    "inference_set = torchvision.datasets.CIFAR10(root='./data', train=False, download=True)\n",
    "trainloader = DataLoader(trainset, batch_size=64, shuffle=True)\n",
    "\n",
    "# Define the class labels for CIFAR-10\n",
    "classes = ['plane', 'car', 'bird', 'cat', 'deer', 'dog', 'frog', 'horse', 'ship', 'truck']"
   ]
  },
  {
   "cell_type": "code",
   "execution_count": 6,
   "metadata": {},
   "outputs": [],
   "source": [
    "# Define a simple CNN\n",
    "class SimpleCNN(nn.Module):\n",
    "    def __init__(self):\n",
    "        super(SimpleCNN, self).__init__()\n",
    "        self.conv = nn.Conv2d(3, 16, kernel_size=3, stride=1, padding=1)\n",
    "        self.pool = nn.MaxPool2d(2, 2)\n",
    "        self.fc = nn.Linear(16 * 16 * 16, 10)\n",
    "\n",
    "    def forward(self, x):\n",
    "        x = self.pool(torch.relu(self.conv(x)))\n",
    "        x = x.view(-1, 16 * 16 * 16)\n",
    "        x = self.fc(x)\n",
    "        return x\n",
    "\n",
    "model = SimpleCNN()"
   ]
  },
  {
   "cell_type": "code",
   "execution_count": 7,
   "metadata": {},
   "outputs": [],
   "source": [
    "# Loss and optimizer\n",
    "criterion = nn.CrossEntropyLoss()\n",
    "optimizer = optim.Adam(model.parameters(), lr=0.001)"
   ]
  },
  {
   "cell_type": "code",
   "execution_count": 8,
   "metadata": {},
   "outputs": [
    {
     "name": "stdout",
     "output_type": "stream",
     "text": [
      "Epoch 1, Loss: 1.5905\n",
      "Epoch 2, Loss: 0.8889\n",
      "Epoch 3, Loss: 1.3586\n",
      "Epoch 4, Loss: 1.0161\n",
      "Epoch 5, Loss: 0.6202\n",
      "Epoch 6, Loss: 0.6996\n",
      "Epoch 7, Loss: 0.5391\n",
      "Epoch 8, Loss: 1.2003\n",
      "Epoch 9, Loss: 0.8063\n",
      "Epoch 10, Loss: 0.7126\n"
     ]
    }
   ],
   "source": [
    "# Train the model (briefly, for simplicity)\n",
    "num_epochs = 10\n",
    "for epoch in range(num_epochs):  # Just 10 epochs for demonstration\n",
    "    for inputs, labels in trainloader:\n",
    "        optimizer.zero_grad()\n",
    "        outputs = model(inputs)\n",
    "        loss = criterion(outputs, labels)\n",
    "        loss.backward()\n",
    "        optimizer.step()\n",
    "    print(f\"Epoch {epoch + 1}, Loss: {loss.item():.4f}\")"
   ]
  },
  {
   "cell_type": "markdown",
   "metadata": {},
   "source": [
    "### Save and Load Model"
   ]
  },
  {
   "cell_type": "code",
   "execution_count": 9,
   "metadata": {},
   "outputs": [],
   "source": [
    "# Save the trained model\n",
    "torch.save(model.state_dict(), \"artifacts/simple_cnn.pth\")"
   ]
  },
  {
   "cell_type": "code",
   "execution_count": 10,
   "metadata": {},
   "outputs": [
    {
     "name": "stderr",
     "output_type": "stream",
     "text": [
      "/var/folders/06/wdqtkk796gjfxfq9063zphx40000gn/T/ipykernel_86627/2863030715.py:3: FutureWarning: You are using `torch.load` with `weights_only=False` (the current default value), which uses the default pickle module implicitly. It is possible to construct malicious pickle data which will execute arbitrary code during unpickling (See https://github.com/pytorch/pytorch/blob/main/SECURITY.md#untrusted-models for more details). In a future release, the default value for `weights_only` will be flipped to `True`. This limits the functions that could be executed during unpickling. Arbitrary objects will no longer be allowed to be loaded via this mode unless they are explicitly allowlisted by the user via `torch.serialization.add_safe_globals`. We recommend you start setting `weights_only=True` for any use case where you don't have full control of the loaded file. Please open an issue on GitHub for any issues related to this experimental feature.\n",
      "  model.load_state_dict(torch.load(\"artifacts/simple_cnn.pth\"))\n"
     ]
    },
    {
     "data": {
      "text/plain": [
       "SimpleCNN(\n",
       "  (conv): Conv2d(3, 16, kernel_size=(3, 3), stride=(1, 1), padding=(1, 1))\n",
       "  (pool): MaxPool2d(kernel_size=2, stride=2, padding=0, dilation=1, ceil_mode=False)\n",
       "  (fc): Linear(in_features=4096, out_features=10, bias=True)\n",
       ")"
      ]
     },
     "execution_count": 10,
     "metadata": {},
     "output_type": "execute_result"
    }
   ],
   "source": [
    "# Load the saved model\n",
    "model = SimpleCNN()\n",
    "model.load_state_dict(torch.load(\"artifacts/simple_cnn.pth\"))\n",
    "model.eval()  # Set the model to evaluation mode"
   ]
  },
  {
   "cell_type": "markdown",
   "metadata": {},
   "source": [
    "### Test Inference"
   ]
  },
  {
   "cell_type": "code",
   "execution_count": 34,
   "metadata": {},
   "outputs": [],
   "source": [
    "# Visualize the image\n",
    "def imshow(img, label = None, predicted = None, classes = None):\n",
    "    img = img / 2 + 0.5  # Denormalize the image\n",
    "    npimg = img.numpy()\n",
    "    plt.imshow(np.transpose(npimg, (1, 2, 0)))\n",
    "    plt.axis('off')\n",
    "    if label is not None and predicted is not None and classes is not None:\n",
    "        plt.title(f\"Label: {classes[label]}\\nPredicted: {classes[predicted]}\")\n",
    "    plt.show()"
   ]
  },
  {
   "cell_type": "code",
   "execution_count": 31,
   "metadata": {},
   "outputs": [],
   "source": [
    "# Pick an image from the test dataset\n",
    "test_image_index = 45\n",
    "image, label = testset[test_image_index]"
   ]
  },
  {
   "cell_type": "code",
   "execution_count": 32,
   "metadata": {},
   "outputs": [
    {
     "name": "stdout",
     "output_type": "stream",
     "text": [
      "Predicted Label (Training Set): truck\n"
     ]
    },
    {
     "data": {
      "image/png": "[encoded data removed]",
      "text/plain": [
       "<Figure size 640x480 with 1 Axes>"
      ]
     },
     "metadata": {},
     "output_type": "display_data"
    }
   ],
   "source": [
    "# Run inference on the training image\n",
    "with torch.no_grad():\n",
    "    train_inputs = image.unsqueeze(0)  # Add batch dimension\n",
    "    train_outputs = model(train_inputs)\n",
    "    _, predicted = torch.max(train_outputs, 1)\n",
    "\n",
    "print(f\"Predicted Label (Training Set): {classes[predicted.item()]}\")\n",
    "imshow(image, label, predicted.item(), classes)"
   ]
  },
  {
   "cell_type": "markdown",
   "metadata": {},
   "source": [
    "### Export ONNX"
   ]
  },
  {
   "cell_type": "code",
   "execution_count": 33,
   "metadata": {},
   "outputs": [
    {
     "name": "stdout",
     "output_type": "stream",
     "text": [
      "Model exported to artifacts/simple_cnn.onnx\n"
     ]
    }
   ],
   "source": [
    "# Define dummy input for ONNX export\n",
    "dummy_input = torch.randn(1, 3, 32, 32)  # Batch size = 1, Image size = 32x32\n",
    "\n",
    "# Export the model\n",
    "onnx_file = \"artifacts/simple_cnn.onnx\"\n",
    "torch.onnx.export(\n",
    "    model, dummy_input, onnx_file,\n",
    "    input_names=[\"input\"], output_names=[\"output\"],\n",
    "    dynamic_axes={\"input\": {0: \"batch_size\"}, \"output\": {0: \"batch_size\"}}\n",
    ")\n",
    "print(f\"Model exported to {onnx_file}\")"
   ]
  },
  {
   "cell_type": "markdown",
   "metadata": {},
   "source": [
    "### Load ONNX and RUn Inference"
   ]
  },
  {
   "cell_type": "code",
   "execution_count": 39,
   "metadata": {},
   "outputs": [
    {
     "data": {
      "image/png": "[encoded data removed]",
      "text/plain": [
       "<Figure size 640x480 with 1 Axes>"
      ]
     },
     "metadata": {},
     "output_type": "display_data"
    },
    {
     "name": "stdout",
     "output_type": "stream",
     "text": [
      "Predicted Label: truck\n"
     ]
    }
   ],
   "source": [
    "import numpy as np\n",
    "import onnxruntime as ort\n",
    "import torchvision.transforms as transforms\n",
    "import matplotlib.pyplot as plt\n",
    "from PIL import Image\n",
    "\n",
    "# Define class labels for CIFAR-10\n",
    "classes = ['plane', 'car', 'bird', 'cat', 'deer', 'dog', 'frog', 'horse', 'ship', 'truck']\n",
    "\n",
    "# Preprocessing function\n",
    "def preprocess_image(image):\n",
    "    transform = transforms.Compose([\n",
    "        transforms.Resize((32, 32)),  # Resize to model input size\n",
    "        transforms.ToTensor(),       # Convert to tensor\n",
    "        transforms.Normalize((0.5,), (0.5,))  # Normalize to match training\n",
    "    ])\n",
    "    if isinstance(image, str):\n",
    "        image = Image.open(image).convert(\"RGB\")\n",
    "    return transform(image).unsqueeze(0)  # Add batch dimension\n",
    "\n",
    "# Pick an image from the test dataset\n",
    "test_image_index = 45\n",
    "image, label = inference_set[test_image_index]\n",
    "\n",
    "# Load and preprocess an image\n",
    "input_tensor = preprocess_image(image)\n",
    "\n",
    "# Visualize the image\n",
    "imshow(input_tensor.squeeze())\n",
    "\n",
    "# Load the ONNX model\n",
    "onnx_model_path = \"artifacts/simple_cnn.onnx\"  # Path to your ONNX model\n",
    "ort_session = ort.InferenceSession(onnx_model_path)\n",
    "\n",
    "# Prepare the input for ONNX Runtime\n",
    "input_name = ort_session.get_inputs()[0].name  # Get input layer name\n",
    "output_name = ort_session.get_outputs()[0].name  # Get output layer name\n",
    "\n",
    "# Run inference\n",
    "ort_inputs = {input_name: input_tensor.numpy()}\n",
    "ort_outputs = ort_session.run([output_name], ort_inputs)\n",
    "\n",
    "# Get predicted label\n",
    "predicted_class = np.argmax(ort_outputs[0])\n",
    "print(f\"Predicted Label: {classes[predicted_class]}\")"
   ]
  },
  {
   "cell_type": "markdown",
   "metadata": {},
   "source": [
    "### Next Steps on Azure Machine Learning (Not All Tested)"
   ]
  },
  {
   "cell_type": "markdown",
   "metadata": {},
   "source": [
    "Once the ONNX is created, we want to\n",
    "\n",
    "- Upload it\n",
    "- Deploy it\n",
    "- Intereact with its Endpoint via REST.\n",
    "\n",
    "Steps to upload the ONNX:\n",
    "\n",
    "1.\tGo to Azure Machine Learning Studio: Navigate to Models in your workspace.\n",
    "2.\tUpload the ONNX Model: Click `+ Register Model` and upload `artifacts/simple_cnn.onnx`.\n",
    "3.\tUse the Model: Use the ONNX model for inference, integration, or deployment in Azure ML Studio.\n",
    "\n",
    "When the model is uploaded, we can deploy it: select it and click `Deploy`.\n",
    "\n",
    "For the deployment, two things are necessary:\n",
    "\n",
    "- A scoring script: `score.py`\n",
    "- We need to select an environment; we can pick an existing one or generate a custom one.\n",
    "\n",
    "Environments are basically defined with a `Dockefile` and an optional `requirements.txt` file.\n",
    "\n",
    "Contents of a possible `score.py` generated by ChatGPT (untested):\n",
    "\n",
    "```python\n",
    "import json\n",
    "import numpy as np\n",
    "import onnxruntime as ort\n",
    "\n",
    "def init():\n",
    "    global model\n",
    "    # Load the ONNX model\n",
    "    model_path = \"./model.onnx\"  # Azure ML will map the model here\n",
    "    model = ort.InferenceSession(model_path)\n",
    "\n",
    "def run(raw_data):\n",
    "    try:\n",
    "        # Parse the input JSON\n",
    "        input_data = np.array(json.loads(raw_data)[\"inputs\"])\n",
    "\n",
    "        # Perform inference\n",
    "        input_name = model.get_inputs()[0].name\n",
    "        output_name = model.get_outputs()[0].name\n",
    "        result = model.run([output_name], {input_name: input_data})[0]\n",
    "\n",
    "        # Return predictions as JSON\n",
    "        return json.dumps({\"predictions\": result.tolist()})\n",
    "    except Exception as e:\n",
    "        return json.dumps({\"error\": str(e)})\n",
    "```\n",
    "\n",
    "Contents of `conda_onnx.yaml`:\n",
    "acpt-pytorch-2.2-cuda12.1\n",
    "```yaml\n",
    "# Use Azure Machine Learning base image\n",
    "FROM mcr.microsoft.com/azureml/openmpi4.1.0-ubuntu20.04\n",
    "\n",
    "# Install additional Python packages\n",
    "RUN pip install azureml-mlflow\n",
    "\n",
    "```"
   ]
  },
  {
   "cell_type": "markdown",
   "metadata": {},
   "source": []
  }
 ],
 "metadata": {
  "kernelspec": {
   "display_name": "rag",
   "language": "python",
   "name": "python3"
  },
  "language_info": {
   "codemirror_mode": {
    "name": "ipython",
    "version": 3
   },
   "file_extension": ".py",
   "mimetype": "text/x-python",
   "name": "python",
   "nbconvert_exporter": "python",
   "pygments_lexer": "ipython3",
   "version": "3.10.16"
  }
 },
 "nbformat": 4,
 "nbformat_minor": 2
}

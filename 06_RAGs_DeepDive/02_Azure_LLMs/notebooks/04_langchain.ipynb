{
 "cells": [
  {
   "cell_type": "markdown",
   "metadata": {},
   "source": [
    "# LangChain with AzureOpenAI"
   ]
  },
  {
   "cell_type": "markdown",
   "metadata": {},
   "source": [
    "## Prompting"
   ]
  },
  {
   "cell_type": "code",
   "execution_count": 12,
   "metadata": {},
   "outputs": [],
   "source": [
    "from langchain.chat_models import AzureChatOpenAI\n",
    "from langchain.prompts import ChatPromptTemplate\n",
    "from langchain.schema import HumanMessage, SystemMessage\n",
    "from dotenv import load_dotenv\n",
    "import os\n",
    "from os.path import dirname\n",
    "\n",
    "# Load environment variables\n",
    "current_dir = os.path.abspath(\".\")\n",
    "root_dir = dirname(current_dir)\n",
    "env_file = os.path.join(current_dir, '.env')\n",
    "load_dotenv(env_file, override=True)\n",
    "\n",
    "# Retrieve Azure OpenAI credentials\n",
    "deployment_name = os.getenv(\"DEPLOYMENT_NAME\")\n",
    "endpoint = os.getenv(\"ENDPOINT_URL\")\n",
    "api_key = os.getenv(\"AZURE_OPENAI_API_KEY\")\n",
    "azure_openai_endpoint = os.getenv(\"AZURE_OPENAI_ENDPOINT_URI\")\n",
    "\n",
    "# Initialize Azure OpenAI Chat model\n",
    "chat = AzureChatOpenAI(\n",
    "    #deployment_name=deployment_name,\n",
    "    #openai_api_base=endpoint,\n",
    "    azure_endpoint=azure_openai_endpoint,\n",
    "    openai_api_version=\"2024-08-01-preview\",\n",
    "    openai_api_key=api_key,\n",
    "    temperature=0.7\n",
    ")\n",
    "\n",
    "# Define the prompt\n",
    "def create_prompt():\n",
    "    return ChatPromptTemplate.from_messages([\n",
    "        SystemMessage(content=\"You are an expert barista and coffee enthusiast.\"),\n",
    "        HumanMessage(content=(\"\"\"\n",
    "        I need to understand what are the variables involved in making outstanding espresso \n",
    "        besides a good machine. For example, what is the combination of roast, grind, tamp, \n",
    "        and water temperature? Include 3 practical steps to practice and improve each variable.\n",
    "        \"\"\"))\n",
    "    ])\n",
    "\n",
    "# Execute the prompt\n",
    "def main():\n",
    "    prompt = create_prompt()\n",
    "    response = chat.invoke(prompt.format_prompt().to_messages())\n",
    "    print(response.content)"
   ]
  },
  {
   "cell_type": "code",
   "execution_count": 13,
   "metadata": {},
   "outputs": [
    {
     "name": "stdout",
     "output_type": "stream",
     "text": [
      "Great question! Making outstanding espresso is all about understanding and controlling the variables involved in the process. Here are the main variables and practical steps to improve them:\n",
      "\n",
      "1) Roast: The roast level of coffee beans can greatly impact the taste and quality of espresso. A darker roast will produce a more bitter and robust flavor, while a lighter roast will bring out more subtle and fruity notes. Here are three practical steps to improve your roast:\n",
      "\n",
      "- Experiment with different roasts: Try out different types of coffee beans and roasts to find the one that best suits your taste preferences.\n",
      "- Keep track of your roast: Record the roast level of your coffee beans so you can consistently produce the same quality espresso.\n",
      "- Use high-quality coffee beans: Invest in high-quality coffee beans that have been roasted to perfection.\n",
      "\n",
      "2) Grind: The grind size of coffee beans can affect the extraction and flavor of espresso. A finer grind will produce a stronger and more intense flavor, while a coarser grind will produce a lighter and more subtle flavor. Here are three practical steps to improve your grind:\n",
      "\n",
      "- Invest in a quality grinder: Use a high-quality grinder that produces consistent grind sizes.\n",
      "- Adjust your grind: Experiment with different grind sizes until you find the perfect one for your taste.\n",
      "- Keep your grinder clean: Regularly clean your grinder to prevent any buildup of coffee oils and residue.\n",
      "\n",
      "3) Tamp: Tamping is the process of compressing the coffee grounds into a compact puck before brewing. Proper tamping can greatly improve the quality of espresso. Here are three practical steps to improve your tamp:\n",
      "\n",
      "- Use the right amount of pressure: Apply consistent pressure when tamping, using around 30-40 pounds of pressure.\n",
      "- Use a level tamp: Ensure the coffee grounds are level by using a flat surface to tamp them down.\n",
      "- Practice your technique: Practice tamping until you find the right technique that works for you.\n",
      "\n",
      "4) Water temperature: The temperature of the water used to brew espresso is crucial to its quality. The ideal temperature range is between 195-205°F. Here are three practical steps to improve your water temperature:\n",
      "\n",
      "- Use a thermometer: Use a thermometer to measure the temperature of the water before brewing.\n",
      "- Preheat your machine: Preheat your machine for at least 20 minutes before brewing to ensure the water is at the right temperature.\n",
      "- Experiment with temperature: Experiment with different temperature ranges to find the one that produces the best taste for your preference.\n",
      "\n",
      "By controlling these variables, you can produce outstanding espresso consistently. Remember to keep practicing and experimenting until you find the perfect combination that works for you.\n"
     ]
    }
   ],
   "source": [
    "main()"
   ]
  },
  {
   "cell_type": "code",
   "execution_count": null,
   "metadata": {},
   "outputs": [],
   "source": []
  }
 ],
 "metadata": {
  "kernelspec": {
   "display_name": "rag",
   "language": "python",
   "name": "python3"
  },
  "language_info": {
   "codemirror_mode": {
    "name": "ipython",
    "version": 3
   },
   "file_extension": ".py",
   "mimetype": "text/x-python",
   "name": "python",
   "nbconvert_exporter": "python",
   "pygments_lexer": "ipython3",
   "version": "3.10.16"
  }
 },
 "nbformat": 4,
 "nbformat_minor": 2
}

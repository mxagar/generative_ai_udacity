{
 "cells": [
  {
   "cell_type": "markdown",
   "metadata": {},
   "source": [
    "# Azure Open AI Basics"
   ]
  },
  {
   "cell_type": "markdown",
   "metadata": {},
   "source": [
    "## Test an Azure OpenAI Deployment"
   ]
  },
  {
   "cell_type": "markdown",
   "metadata": {},
   "source": [
    "Here I show how to use the OpenAI deployment programmatically via REST; I used the API key and the Endpoint obtained from the Azure AI Foundry (Deployments).\n",
    "Also, in the Chat Playground, if we click on `View code` we see the Python code for interaction, which is different to this one.\n",
    "The example code from `View code` has more options!\n",
    "\n",
    "![Azure AI Foundry: Deployments](../assets/auzure_ai_foundry_deployments.png)\n",
    "![Azure AI Foundry: Playground](../assets/auzure_ai_foundry_playground.png)"
   ]
  },
  {
   "cell_type": "markdown",
   "metadata": {},
   "source": [
    "### Simple API Call"
   ]
  },
  {
   "cell_type": "code",
   "execution_count": 3,
   "metadata": {},
   "outputs": [
    {
     "data": {
      "text/plain": [
       "True"
      ]
     },
     "execution_count": 3,
     "metadata": {},
     "output_type": "execute_result"
    }
   ],
   "source": [
    "import os\n",
    "import requests\n",
    "from dotenv import load_dotenv\n",
    "\n",
    "load_dotenv(override=True, dotenv_path=\".env\")"
   ]
  },
  {
   "cell_type": "code",
   "execution_count": 4,
   "metadata": {},
   "outputs": [],
   "source": [
    "# Define your Azure OpenAI details\n",
    "AZURE_OPENAI_ENDPOINT_URI = os.getenv(\"AZURE_OPENAI_ENDPOINT_URI\")\n",
    "AZURE_OPENAI_API_KEY = os.getenv(\"AZURE_OPENAI_API_KEY\")"
   ]
  },
  {
   "cell_type": "code",
   "execution_count": 8,
   "metadata": {},
   "outputs": [
    {
     "name": "stdout",
     "output_type": "stream",
     "text": [
      "Response:\n",
      "Why don't scientists trust atoms? \n",
      "\n",
      "Because they make up everything.\n"
     ]
    }
   ],
   "source": [
    "# Set up the request headers\n",
    "headers = {\n",
    "    \"Content-Type\": \"application/json\",\n",
    "    \"api-key\": AZURE_OPENAI_API_KEY,\n",
    "}\n",
    "\n",
    "# Define the request body\n",
    "data = {\n",
    "    \"messages\": [\n",
    "        {\"role\": \"system\", \"content\": \"You are an assistant.\"},\n",
    "        {\"role\": \"user\", \"content\": \"Tell me a joke.\"},\n",
    "    ],\n",
    "    \"max_tokens\": 100,\n",
    "}\n",
    "\n",
    "# Send the POST request\n",
    "response = requests.post(\n",
    "    f\"{AZURE_OPENAI_ENDPOINT_URI}\",\n",
    "    headers=headers,\n",
    "    json=data,\n",
    ")\n",
    "\n",
    "# Handle the response\n",
    "if response.status_code == 200:\n",
    "    result = response.json()\n",
    "    print(\"Response:\")\n",
    "    print(result[\"choices\"][0][\"message\"][\"content\"])\n",
    "else:\n",
    "    print(f\"Error: {response.status_code} - {response.text}\")"
   ]
  },
  {
   "cell_type": "markdown",
   "metadata": {},
   "source": [
    "### Code Example from Playground"
   ]
  },
  {
   "cell_type": "code",
   "execution_count": 11,
   "metadata": {},
   "outputs": [
    {
     "data": {
      "text/plain": [
       "True"
      ]
     },
     "execution_count": 11,
     "metadata": {},
     "output_type": "execute_result"
    }
   ],
   "source": [
    "import os  \n",
    "import base64\n",
    "from openai import AzureOpenAI\n",
    "from dotenv import load_dotenv\n",
    "\n",
    "load_dotenv(override=True, dotenv_path=\".env\")"
   ]
  },
  {
   "cell_type": "code",
   "execution_count": 12,
   "metadata": {},
   "outputs": [],
   "source": [
    "# Now, the URL is shorter and we add the endpoint and deployment name\n",
    "endpoint = os.getenv(\"ENDPOINT_URL\")\n",
    "deployment = os.getenv(\"DEPLOYMENT_NAME\")\n",
    "subscription_key = os.getenv(\"AZURE_OPENAI_API_KEY\")"
   ]
  },
  {
   "cell_type": "code",
   "execution_count": 13,
   "metadata": {},
   "outputs": [],
   "source": [
    "# Initialize Azure OpenAI client with key-based authentication    \n",
    "client = AzureOpenAI(  \n",
    "    azure_endpoint=endpoint,  \n",
    "    api_key=subscription_key,  \n",
    "    api_version=\"2024-05-01-preview\",  \n",
    ")"
   ]
  },
  {
   "cell_type": "code",
   "execution_count": 15,
   "metadata": {},
   "outputs": [
    {
     "name": "stdout",
     "output_type": "stream",
     "text": [
      "{\n",
      "  \"id\": \"chatcmpl-Alilpzix5RQAIL0QpwOn51NIpD9py\",\n",
      "  \"choices\": [\n",
      "    {\n",
      "      \"finish_reason\": \"stop\",\n",
      "      \"index\": 0,\n",
      "      \"logprobs\": null,\n",
      "      \"message\": {\n",
      "        \"content\": \"Hello! How can I assist you in finding information today?\",\n",
      "        \"role\": \"assistant\"\n",
      "      },\n",
      "      \"content_filter_results\": {\n",
      "        \"hate\": {\n",
      "          \"filtered\": false,\n",
      "          \"severity\": \"safe\"\n",
      "        },\n",
      "        \"self_harm\": {\n",
      "          \"filtered\": false,\n",
      "          \"severity\": \"safe\"\n",
      "        },\n",
      "        \"sexual\": {\n",
      "          \"filtered\": false,\n",
      "          \"severity\": \"safe\"\n",
      "        },\n",
      "        \"violence\": {\n",
      "          \"filtered\": false,\n",
      "          \"severity\": \"safe\"\n",
      "        }\n",
      "      }\n",
      "    }\n",
      "  ],\n",
      "  \"created\": 1735936877,\n",
      "  \"model\": \"gpt-35-turbo\",\n",
      "  \"object\": \"chat.completion\",\n",
      "  \"system_fingerprint\": null,\n",
      "  \"usage\": {\n",
      "    \"completion_tokens\": 12,\n",
      "    \"prompt_tokens\": 19,\n",
      "    \"total_tokens\": 31\n",
      "  },\n",
      "  \"prompt_filter_results\": [\n",
      "    {\n",
      "      \"prompt_index\": 0,\n",
      "      \"content_filter_results\": {}\n",
      "    }\n",
      "  ]\n",
      "}\n"
     ]
    }
   ],
   "source": [
    "#Prepare the chat prompt \n",
    "chat_prompt = [\n",
    "    {\n",
    "        \"role\": \"system\",\n",
    "        \"content\": \"You are an AI assistant that helps people find information.\"\n",
    "    }\n",
    "] \n",
    "    \n",
    "# Include speech result if speech is enabled  \n",
    "messages = chat_prompt  \n",
    "    \n",
    "# Generate the completion  \n",
    "completion = client.chat.completions.create(  \n",
    "    model=deployment,  \n",
    "    messages=messages,  \n",
    "    max_tokens=800,  \n",
    "    temperature=0.7,  \n",
    "    top_p=0.95,  \n",
    "    frequency_penalty=0,  \n",
    "    presence_penalty=0,  \n",
    "    stop=None,  \n",
    "    stream=False\n",
    ")\n",
    "\n",
    "print(completion.to_json())"
   ]
  },
  {
   "cell_type": "markdown",
   "metadata": {},
   "source": [
    "### Chat Loop with Playground Code"
   ]
  },
  {
   "cell_type": "code",
   "execution_count": 34,
   "metadata": {},
   "outputs": [
    {
     "data": {
      "text/plain": [
       "True"
      ]
     },
     "execution_count": 34,
     "metadata": {},
     "output_type": "execute_result"
    }
   ],
   "source": [
    "import os  \n",
    "import base64\n",
    "from openai import AzureOpenAI\n",
    "from openai import ChatCompletion\n",
    "from dotenv import load_dotenv\n",
    "from typing import List, Dict, Optional\n",
    "\n",
    "load_dotenv(override=True, dotenv_path=\".env\")"
   ]
  },
  {
   "cell_type": "code",
   "execution_count": 17,
   "metadata": {},
   "outputs": [],
   "source": [
    "# Now, the URL is shorter and we add the endpoint and deployment name\n",
    "endpoint = os.getenv(\"ENDPOINT_URL\")\n",
    "deployment = os.getenv(\"DEPLOYMENT_NAME\")\n",
    "subscription_key = os.getenv(\"AZURE_OPENAI_API_KEY\")"
   ]
  },
  {
   "cell_type": "code",
   "execution_count": 18,
   "metadata": {},
   "outputs": [],
   "source": [
    "# Initialize Azure OpenAI client with key-based authentication    \n",
    "client = AzureOpenAI(  \n",
    "    azure_endpoint=endpoint,  \n",
    "    api_key=subscription_key,  \n",
    "    api_version=\"2024-05-01-preview\",  \n",
    ")"
   ]
  },
  {
   "cell_type": "code",
   "execution_count": 38,
   "metadata": {},
   "outputs": [],
   "source": [
    "def chat(user_message: str, history: Optional[list[dict]] = None) -> ChatCompletion:\n",
    "    if history is None:\n",
    "        history = [\n",
    "            {\n",
    "                \"role\": \"system\",\n",
    "                \"content\": \"You are an AI assistant that helps people find information.\"\n",
    "            }\n",
    "        ]\n",
    "\n",
    "    # Insert the user message into the history\n",
    "    history.append(\n",
    "        {\n",
    "            \"role\": \"user\",\n",
    "            \"content\": user_message\n",
    "        }\n",
    "    )\n",
    "    \n",
    "    # Generate the completion  \n",
    "    completion = client.chat.completions.create(  \n",
    "        model=deployment,  \n",
    "        messages=history,  \n",
    "        max_tokens=800,  \n",
    "        temperature=0.7,  \n",
    "        top_p=0.95,  \n",
    "        frequency_penalty=0,  \n",
    "        presence_penalty=0,  \n",
    "        stop=None,  \n",
    "        stream=False\n",
    "    )\n",
    "    \n",
    "    # Extend history\n",
    "    history.append(\n",
    "        {\n",
    "            \"role\": \"assistant\",\n",
    "            \"content\": completion.choices[0].message.content\n",
    "        }\n",
    "    )\n",
    "    \n",
    "    return completion, history"
   ]
  },
  {
   "cell_type": "code",
   "execution_count": 44,
   "metadata": {},
   "outputs": [
    {
     "name": "stdout",
     "output_type": "stream",
     "text": [
      "Why did the tomato turn red? Because it saw the salad dressing!\n",
      "[{'role': 'system', 'content': 'You are an AI assistant that helps people find information.'}, {'role': 'user', 'content': 'Tell me a joke.'}, {'role': 'assistant', 'content': 'Why did the tomato turn red? Because it saw the salad dressing!'}]\n"
     ]
    }
   ],
   "source": [
    "completion, history = chat(\"Tell me a joke.\")\n",
    "print(completion.to_dict()[\"choices\"][0][\"message\"][\"content\"])"
   ]
  },
  {
   "cell_type": "code",
   "execution_count": null,
   "metadata": {},
   "outputs": [
    {
     "name": "stdout",
     "output_type": "stream",
     "text": [
      "assistant: Sure, here's a joke for you: Why don't scientists trust atoms? Because they make up everything.\n",
      "assistant: Sure, here's an animal joke for you: What do you call a grizzly bear with no teeth? A gummy bear!\n",
      "assistant: As an AI language model, I don't have the ability to have preferences or emotions. However, I am designed to generate different types of jokes based on the user's request.\n",
      "assistant: Sure, here is a summary of our conversation so far:\n",
      "\n",
      "- You asked me to tell you a joke, so I told you a joke about atoms.\n",
      "- You then asked me to tell you a joke about animals, so I told you a joke about a grizzly bear with no teeth.\n",
      "- Lastly, you asked me which joke I prefer, but as an AI language model, I don't have the ability to have preferences or emotions.\n",
      "assistant: Is there anything else I can help you with?\n",
      "assistant: I'm sorry, I didn't receive a question or request from you. Is there something specific you need assistance with?\n",
      "assistant: If you have any questions or need any help, feel free to ask me. I'm here to assist you.\n",
      "assistant: If you have any questions or need any help, feel free to ask me. I'm here to assist you.\n"
     ]
    }
   ],
   "source": [
    "history = None\n",
    "while True:\n",
    "    user_message = input(\">>: \")\n",
    "    completion, history = chat(user_message, history)\n",
    "    print(f\"assistant: {completion.to_dict()['choices'][0]['message']['content']}\")"
   ]
  },
  {
   "cell_type": "code",
   "execution_count": null,
   "metadata": {},
   "outputs": [],
   "source": []
  }
 ],
 "metadata": {
  "kernelspec": {
   "display_name": "rag",
   "language": "python",
   "name": "python3"
  },
  "language_info": {
   "codemirror_mode": {
    "name": "ipython",
    "version": 3
   },
   "file_extension": ".py",
   "mimetype": "text/x-python",
   "name": "python",
   "nbconvert_exporter": "python",
   "pygments_lexer": "ipython3",
   "version": "3.10.16"
  }
 },
 "nbformat": 4,
 "nbformat_minor": 2
}

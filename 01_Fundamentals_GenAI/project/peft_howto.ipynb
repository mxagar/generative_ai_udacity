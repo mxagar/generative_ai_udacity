{
 "cells": [
  {
   "cell_type": "markdown",
   "id": "d86111bb",
   "metadata": {},
   "source": [
    "# Parameter-Efficient Fine-Tuning (PEFT): A Guide"
   ]
  },
  {
   "cell_type": "markdown",
   "id": "0258bd60",
   "metadata": {},
   "source": []
  }
 ],
 "metadata": {
  "language_info": {
   "name": "python"
  }
 },
 "nbformat": 4,
 "nbformat_minor": 5
}
